{
 "cells": [
  {
   "cell_type": "markdown",
   "id": "43e99323-b856-4585-83c1-fcbc8b7cad10",
   "metadata": {},
   "source": [
    "1. 엑셀 파일 처리: 엑셀 파일에서 데이터를 추출하고, JSON 파일로 저장합니다.\n",
    "2. JSON 파일 검증: 변환된 JSON 파일에서 데이터를 샘플링하고, 필드 유효성을 확인합니다.\n",
    "3. 데이터 전처리: 형태소 분석과 불용어 제거를 통해 데이터를 정제합니다.\n",
    "4. 토큰화: 정제된 데이터를 BERT Tokenizer로 토큰화합니다.\n",
    "5. 데이터셋 준비: 데이터셋을 정의하고, DataLoader로 데이터를 배치 단위로 나눕니다.\n",
    "6. 데이터 확인: 배치된 데이터를 확인하고, 학습에 사용할 준비가 되었는지 검증합니다."
   ]
  },
  {
   "cell_type": "code",
   "execution_count": 1,
   "id": "ebca9c40-ddcc-4392-861a-8ca37799496e",
   "metadata": {},
   "outputs": [],
   "source": [
    "import os\n",
    "import sys\n",
    "import urllib.request\n",
    "import pandas as pd\n",
    "import requests\n",
    "\n",
    "import warnings\n",
    "# 경고 메시지 무시 설정\n",
    "warnings.filterwarnings(\"ignore\", category=UserWarning, module=\"openpyxl\")"
   ]
  },
  {
   "cell_type": "markdown",
   "id": "547e6570-7abf-418f-a8bf-0f29724fd277",
   "metadata": {},
   "source": [
    "1. 엑셀 파일 읽기 및 JSON 변환\n",
    "\n",
    "* 다음부터는 이거 실행안해도됨 1번만 하면됨"
   ]
  },
  {
   "cell_type": "code",
   "execution_count": 2,
   "id": "b0b22b2d-c7c4-445c-81b4-4280cb58e58a",
   "metadata": {
    "scrolled": true
   },
   "outputs": [
    {
     "ename": "KeyboardInterrupt",
     "evalue": "",
     "output_type": "error",
     "traceback": [
      "\u001b[0;31m---------------------------------------------------------------------------\u001b[0m",
      "\u001b[0;31mKeyboardInterrupt\u001b[0m                         Traceback (most recent call last)",
      "Cell \u001b[0;32mIn[2], line 18\u001b[0m\n\u001b[1;32m     15\u001b[0m \u001b[38;5;28;01mfor\u001b[39;00m file_path \u001b[38;5;129;01min\u001b[39;00m excel_files:\n\u001b[1;32m     16\u001b[0m     \u001b[38;5;28;01mtry\u001b[39;00m:\n\u001b[1;32m     17\u001b[0m         \u001b[38;5;66;03m# 엑셀 파일 읽기\u001b[39;00m\n\u001b[0;32m---> 18\u001b[0m         df \u001b[38;5;241m=\u001b[39m \u001b[43mpd\u001b[49m\u001b[38;5;241;43m.\u001b[39;49m\u001b[43mread_excel\u001b[49m\u001b[43m(\u001b[49m\u001b[43mfile_path\u001b[49m\u001b[43m)\u001b[49m\n\u001b[1;32m     20\u001b[0m         question_info \u001b[38;5;241m=\u001b[39m \u001b[38;5;28;01mNone\u001b[39;00m  \u001b[38;5;66;03m# 현재 질문 정보를 저장할 변수\u001b[39;00m\n\u001b[1;32m     22\u001b[0m         \u001b[38;5;66;03m# 각 행을 순회하며 질문(Q)과 답변(A) 추출\u001b[39;00m\n",
      "File \u001b[0;32m~/miniforge3/envs/nlp/lib/python3.10/site-packages/pandas/io/excel/_base.py:495\u001b[0m, in \u001b[0;36mread_excel\u001b[0;34m(io, sheet_name, header, names, index_col, usecols, dtype, engine, converters, true_values, false_values, skiprows, nrows, na_values, keep_default_na, na_filter, verbose, parse_dates, date_parser, date_format, thousands, decimal, comment, skipfooter, storage_options, dtype_backend, engine_kwargs)\u001b[0m\n\u001b[1;32m    493\u001b[0m \u001b[38;5;28;01mif\u001b[39;00m \u001b[38;5;129;01mnot\u001b[39;00m \u001b[38;5;28misinstance\u001b[39m(io, ExcelFile):\n\u001b[1;32m    494\u001b[0m     should_close \u001b[38;5;241m=\u001b[39m \u001b[38;5;28;01mTrue\u001b[39;00m\n\u001b[0;32m--> 495\u001b[0m     io \u001b[38;5;241m=\u001b[39m \u001b[43mExcelFile\u001b[49m\u001b[43m(\u001b[49m\n\u001b[1;32m    496\u001b[0m \u001b[43m        \u001b[49m\u001b[43mio\u001b[49m\u001b[43m,\u001b[49m\n\u001b[1;32m    497\u001b[0m \u001b[43m        \u001b[49m\u001b[43mstorage_options\u001b[49m\u001b[38;5;241;43m=\u001b[39;49m\u001b[43mstorage_options\u001b[49m\u001b[43m,\u001b[49m\n\u001b[1;32m    498\u001b[0m \u001b[43m        \u001b[49m\u001b[43mengine\u001b[49m\u001b[38;5;241;43m=\u001b[39;49m\u001b[43mengine\u001b[49m\u001b[43m,\u001b[49m\n\u001b[1;32m    499\u001b[0m \u001b[43m        \u001b[49m\u001b[43mengine_kwargs\u001b[49m\u001b[38;5;241;43m=\u001b[39;49m\u001b[43mengine_kwargs\u001b[49m\u001b[43m,\u001b[49m\n\u001b[1;32m    500\u001b[0m \u001b[43m    \u001b[49m\u001b[43m)\u001b[49m\n\u001b[1;32m    501\u001b[0m \u001b[38;5;28;01melif\u001b[39;00m engine \u001b[38;5;129;01mand\u001b[39;00m engine \u001b[38;5;241m!=\u001b[39m io\u001b[38;5;241m.\u001b[39mengine:\n\u001b[1;32m    502\u001b[0m     \u001b[38;5;28;01mraise\u001b[39;00m \u001b[38;5;167;01mValueError\u001b[39;00m(\n\u001b[1;32m    503\u001b[0m         \u001b[38;5;124m\"\u001b[39m\u001b[38;5;124mEngine should not be specified when passing \u001b[39m\u001b[38;5;124m\"\u001b[39m\n\u001b[1;32m    504\u001b[0m         \u001b[38;5;124m\"\u001b[39m\u001b[38;5;124man ExcelFile - ExcelFile already has the engine set\u001b[39m\u001b[38;5;124m\"\u001b[39m\n\u001b[1;32m    505\u001b[0m     )\n",
      "File \u001b[0;32m~/miniforge3/envs/nlp/lib/python3.10/site-packages/pandas/io/excel/_base.py:1550\u001b[0m, in \u001b[0;36mExcelFile.__init__\u001b[0;34m(self, path_or_buffer, engine, storage_options, engine_kwargs)\u001b[0m\n\u001b[1;32m   1548\u001b[0m     ext \u001b[38;5;241m=\u001b[39m \u001b[38;5;124m\"\u001b[39m\u001b[38;5;124mxls\u001b[39m\u001b[38;5;124m\"\u001b[39m\n\u001b[1;32m   1549\u001b[0m \u001b[38;5;28;01melse\u001b[39;00m:\n\u001b[0;32m-> 1550\u001b[0m     ext \u001b[38;5;241m=\u001b[39m \u001b[43minspect_excel_format\u001b[49m\u001b[43m(\u001b[49m\n\u001b[1;32m   1551\u001b[0m \u001b[43m        \u001b[49m\u001b[43mcontent_or_path\u001b[49m\u001b[38;5;241;43m=\u001b[39;49m\u001b[43mpath_or_buffer\u001b[49m\u001b[43m,\u001b[49m\u001b[43m \u001b[49m\u001b[43mstorage_options\u001b[49m\u001b[38;5;241;43m=\u001b[39;49m\u001b[43mstorage_options\u001b[49m\n\u001b[1;32m   1552\u001b[0m \u001b[43m    \u001b[49m\u001b[43m)\u001b[49m\n\u001b[1;32m   1553\u001b[0m     \u001b[38;5;28;01mif\u001b[39;00m ext \u001b[38;5;129;01mis\u001b[39;00m \u001b[38;5;28;01mNone\u001b[39;00m:\n\u001b[1;32m   1554\u001b[0m         \u001b[38;5;28;01mraise\u001b[39;00m \u001b[38;5;167;01mValueError\u001b[39;00m(\n\u001b[1;32m   1555\u001b[0m             \u001b[38;5;124m\"\u001b[39m\u001b[38;5;124mExcel file format cannot be determined, you must specify \u001b[39m\u001b[38;5;124m\"\u001b[39m\n\u001b[1;32m   1556\u001b[0m             \u001b[38;5;124m\"\u001b[39m\u001b[38;5;124man engine manually.\u001b[39m\u001b[38;5;124m\"\u001b[39m\n\u001b[1;32m   1557\u001b[0m         )\n",
      "File \u001b[0;32m~/miniforge3/envs/nlp/lib/python3.10/site-packages/pandas/io/excel/_base.py:1402\u001b[0m, in \u001b[0;36minspect_excel_format\u001b[0;34m(content_or_path, storage_options)\u001b[0m\n\u001b[1;32m   1399\u001b[0m \u001b[38;5;28;01mif\u001b[39;00m \u001b[38;5;28misinstance\u001b[39m(content_or_path, \u001b[38;5;28mbytes\u001b[39m):\n\u001b[1;32m   1400\u001b[0m     content_or_path \u001b[38;5;241m=\u001b[39m BytesIO(content_or_path)\n\u001b[0;32m-> 1402\u001b[0m \u001b[38;5;28;01mwith\u001b[39;00m \u001b[43mget_handle\u001b[49m\u001b[43m(\u001b[49m\n\u001b[1;32m   1403\u001b[0m \u001b[43m    \u001b[49m\u001b[43mcontent_or_path\u001b[49m\u001b[43m,\u001b[49m\u001b[43m \u001b[49m\u001b[38;5;124;43m\"\u001b[39;49m\u001b[38;5;124;43mrb\u001b[39;49m\u001b[38;5;124;43m\"\u001b[39;49m\u001b[43m,\u001b[49m\u001b[43m \u001b[49m\u001b[43mstorage_options\u001b[49m\u001b[38;5;241;43m=\u001b[39;49m\u001b[43mstorage_options\u001b[49m\u001b[43m,\u001b[49m\u001b[43m \u001b[49m\u001b[43mis_text\u001b[49m\u001b[38;5;241;43m=\u001b[39;49m\u001b[38;5;28;43;01mFalse\u001b[39;49;00m\n\u001b[1;32m   1404\u001b[0m \u001b[43m\u001b[49m\u001b[43m)\u001b[49m \u001b[38;5;28;01mas\u001b[39;00m handle:\n\u001b[1;32m   1405\u001b[0m     stream \u001b[38;5;241m=\u001b[39m handle\u001b[38;5;241m.\u001b[39mhandle\n\u001b[1;32m   1406\u001b[0m     stream\u001b[38;5;241m.\u001b[39mseek(\u001b[38;5;241m0\u001b[39m)\n",
      "File \u001b[0;32m~/miniforge3/envs/nlp/lib/python3.10/site-packages/pandas/io/common.py:882\u001b[0m, in \u001b[0;36mget_handle\u001b[0;34m(path_or_buf, mode, encoding, compression, memory_map, is_text, errors, storage_options)\u001b[0m\n\u001b[1;32m    873\u001b[0m         handle \u001b[38;5;241m=\u001b[39m \u001b[38;5;28mopen\u001b[39m(\n\u001b[1;32m    874\u001b[0m             handle,\n\u001b[1;32m    875\u001b[0m             ioargs\u001b[38;5;241m.\u001b[39mmode,\n\u001b[0;32m   (...)\u001b[0m\n\u001b[1;32m    878\u001b[0m             newline\u001b[38;5;241m=\u001b[39m\u001b[38;5;124m\"\u001b[39m\u001b[38;5;124m\"\u001b[39m,\n\u001b[1;32m    879\u001b[0m         )\n\u001b[1;32m    880\u001b[0m     \u001b[38;5;28;01melse\u001b[39;00m:\n\u001b[1;32m    881\u001b[0m         \u001b[38;5;66;03m# Binary mode\u001b[39;00m\n\u001b[0;32m--> 882\u001b[0m         handle \u001b[38;5;241m=\u001b[39m \u001b[38;5;28;43mopen\u001b[39;49m\u001b[43m(\u001b[49m\u001b[43mhandle\u001b[49m\u001b[43m,\u001b[49m\u001b[43m \u001b[49m\u001b[43mioargs\u001b[49m\u001b[38;5;241;43m.\u001b[39;49m\u001b[43mmode\u001b[49m\u001b[43m)\u001b[49m\n\u001b[1;32m    883\u001b[0m     handles\u001b[38;5;241m.\u001b[39mappend(handle)\n\u001b[1;32m    885\u001b[0m \u001b[38;5;66;03m# Convert BytesIO or file objects passed with an encoding\u001b[39;00m\n",
      "\u001b[0;31mKeyboardInterrupt\u001b[0m: "
     ]
    }
   ],
   "source": [
    "import pandas as pd\n",
    "import json\n",
    "import glob\n",
    "import os\n",
    "\n",
    "# 엑셀 파일들이 들어 있는 최상위 폴더 경로\n",
    "base_dir = r\"/mnt/c/study/KISTI_AI/023.국회 회의록 기반 지식검색 데이터/3.개방데이터/1.데이터/Training/01.원천데이터\"\n",
    "\n",
    "# 모든 하위 폴더 내 엑셀 파일 경로 검색\n",
    "excel_files = glob.glob(os.path.join(base_dir, '**', '*.xlsx'), recursive=True)\n",
    "\n",
    "qa_data = []  # JSON으로 저장할 데이터 리스트\n",
    "\n",
    "# 모든 엑셀 파일 읽기\n",
    "for file_path in excel_files:\n",
    "    try:\n",
    "        # 엑셀 파일 읽기\n",
    "        df = pd.read_excel(file_path)\n",
    "\n",
    "        question_info = None  # 현재 질문 정보를 저장할 변수\n",
    "\n",
    "        # 각 행을 순회하며 질문(Q)과 답변(A) 추출\n",
    "        for idx, row in df.iterrows():\n",
    "            if row['질의응답'] == 'Q':  # 질문일 때\n",
    "                question_info = {\n",
    "                    \"question\": row['발언내용'],\n",
    "                    \"회의번호\": row['회의번호'],\n",
    "                    \"질의응답번호\": row['질의응답번호'],\n",
    "                    \"회의구분\": row['회의구분'],\n",
    "                    \"위원회\": row['위원회'],\n",
    "                    \"회의일자\": row['회의일자'],\n",
    "                    \"질문자\": row['의원ID'],\n",
    "                    \"질문자_ISNI\": row['ISNI']\n",
    "                }\n",
    "            elif row['질의응답'] == 'A' and question_info is not None:  # 답변일 때\n",
    "                answer_info = {\n",
    "                    \"answer\": row['발언내용'],\n",
    "                    \"답변자\": row['의원ID'],\n",
    "                    \"답변자_ISNI\": row['ISNI']\n",
    "                }\n",
    "\n",
    "                # 유효성 검사: 질문과 답변이 있는지 확인\n",
    "                if not question_info['question'] or not answer_info['answer']:\n",
    "                    print(f\"파일 {file_path}의 {idx}번째 항목에서 질문 또는 답변이 누락되었습니다. 건너뜁니다.\")\n",
    "                    continue\n",
    "\n",
    "                # 질문과 답변을 연결하여 하나의 JSON 객체로 만듦\n",
    "                qa_data.append({**question_info, **answer_info})\n",
    "                question_info = None  # 사용 후 질문 정보를 초기화\n",
    "\n",
    "    except FileNotFoundError:\n",
    "        print(f\"파일을 찾을 수 없습니다: {file_path}\")\n",
    "    except pd.errors.EmptyDataError:\n",
    "        print(f\"빈 파일이므로 건너뜁니다: {file_path}\")\n",
    "    except Exception as e:\n",
    "        print(f\"파일 처리 중 오류 발생 ({file_path}): {e}\")\n",
    "\n",
    "# 라벨링 데이터 파일 저장 경로\n",
    "save_dir = r\"/mnt/c/study/KISTI_AI/023.국회 회의록 기반 지식검색 데이터/3.개방데이터/1.데이터/Training/02.라벨링데이터\"\n",
    "save_path = os.path.join(save_dir, '라벨링데이터.json')\n",
    "\n",
    "# 디렉토리가 존재하지 않으면 생성\n",
    "os.makedirs(save_dir, exist_ok=True)\n",
    "\n",
    "# JSON 파일로 저장\n",
    "try:\n",
    "    with open(save_path, 'w', encoding='utf-8') as f:\n",
    "        json.dump(qa_data, f, ensure_ascii=False, indent=4)\n",
    "    print(f\"모든 파일 처리가 완료되었습니다. JSON 파일이 저장되었습니다: {save_path}\")\n",
    "except Exception as e:\n",
    "    print(f\"JSON 파일 저장 중 오류 발생: {e}\")\n"
   ]
  },
  {
   "cell_type": "markdown",
   "id": "afcb8fd8-fd31-4df3-b3a4-3b93b1a440bd",
   "metadata": {},
   "source": [
    "2. 변환된 JSON 파일 검증"
   ]
  },
  {
   "cell_type": "code",
   "execution_count": 2,
   "id": "7fe59459-9bbd-4eec-980c-e54c0ed01f08",
   "metadata": {
    "scrolled": true
   },
   "outputs": [
    {
     "name": "stdout",
     "output_type": "stream",
     "text": [
      "JSON 파일이 정상적으로 로드되었습니다. 총 35233개의 질문-답변 쌍이 있습니다.\n",
      "\n",
      "첫 5개의 질문-답변 쌍 확인:\n",
      "\n",
      "샘플 1:\n",
      "질문: 우리 사장이나 간부들이 이것을 대단히 소홀하게 중요하지 않게 생각하는데 끝까지 내 이야기에 대한 답변이 나오지 않았습니다.  공역문제인데 아까 공역을 전부 예를 들었습니다마는 가령 미공군 매향리 사격장, 한ㆍ미합동훈련장 또 여주 공군사격장, 수도권 비행금지구역, 휴전선 비행금지구역 이렇게 공역이 되어 있는데 앞으로 허브공항으로서 많은 비행기가 오는 곳에 공역이 도처에 있어요. 과연 그 공역을 피해 갈 수 있을 것인가에 대한 어려움을 우리 건교부하고 미8군하고 국방부하고 협의해서 공역문제는 사전에 합의를 보아야 할 문제인데 이것에 대해서 사장은 어떤 생각을 가지고 있느냐고 물어 보았습니다. 답변을 해주십시오.\n",
      "답변: 서면으로 답변을 드리려고 했습니다마는 공역문제는 너무 중요한 문제입니다. 그리고 당장은 아니지만 2, 3년 앞을 내다보면 매우 심각한 문제입니다. 미국 정부에서도 그 심각성을 인정하고 있습니다. 그래서 제가 알기로는 건교부에서 국방부, 미 당국과도 협의를 이미 진행하고 있습니다.   그래서 공역을 변경하기로 일부 합의되어서 저희 공항개항과 더불어 현재의 공역보다도 많이 여유를 갖게 되어 있습니다. 그리고 근본적인 문제는 앞으로 한ㆍ미간 또는 국내에서 국방부와 협의가 계속 진행될 것으로 알고 있습니다.\n",
      "--------------------------------------------------\n",
      "샘플 2:\n",
      "질문: 제가 아까 한 질의는 아주 근본적인 질의거든요.  평가원이라는 것이 책임이 막중하지요.  이번에 R&D가 3조 이상 나갔고 2조2,000 이상을 평가하고 그것이 앞으로 우리나라의 방향을 제시해 주는 것 아닙니까, 그런데 그 평가 아까 말씀드린 것 이해하시지요?  근본적으로 저는 그 12개 카테고리가 아주 무작위적이고 그런데 전반적으로 이 시스템을 다 바꿔야 돼요.  아니면 평가기반이 지금 흔들리면 이렇게 많은 것을 하는데 아무 의미가 없다라는 생각이 저는 듭니다.\n",
      "답변: 그것은 위원님 꾸중을 안 하신다는 전제하에 말씀드리겠습니다.  저도 어떤 기계를 분해만 하려면 쉽게 합니다마는 분해한 기계를 다시 조립하는 과정에 또 어려움도 있어서 그 말씀하신 충정을 제가 다 이해하면서도 좀 잠정적으로 정말 짚어가면서 해야 되지 않는가 하는 것이 이게 산 생체를 다루는 의사의 입장이라는 것도 한번 좀 이해해 주시고 저 개인으로 돌아가서는 정말 위원님이 말씀하시는 것하고 하나 이의가 없습니다.\n",
      "--------------------------------------------------\n",
      "샘플 3:\n",
      "질문: 좋습니다. 제가 얘기를 마저 할게요.  그 다음에 지금 단속기간을 정해서 단속을 하고 계십니까, 아니면 그런 기간을 설정하지 않고 있습니까?\n",
      "답변: 저희 해경이 주관해서 단속기간을 설정해서 불법 소형 기선저인망을 단속하는 경우는 없고 지방해양수산청이나 시ㆍ도에서 주관해서 합동단속을 요청할 경우 저희가 단속에 같이 공조를 하고 있습니다.\n",
      "--------------------------------------------------\n",
      "샘플 4:\n",
      "질문: 지금 장관 답변이 CNA는 통일부의 승인을 못 받았기 때문에 못한 것이고 교향악단 합동공연은 당국 간의 합의하에 결정이 됐기 때문에 공연이 됐다 그런 이야기 아닙니까?\n",
      "답변: 조금 부가설명을 제가 올리겠습니다.   당초에 저희들이 파악하고 있기로는 CNA에서 서울 초청공연과 북한공연의 접촉 승인은 받았습니다. KBS에서······ 그러나 북한공연은 승인이 났는데 현금지급을 다 못했기 때에 북경에서 평양으로 못 들어간 걸로 알고 있습니다. 그러나 서울 초청공연 문제는 접촉승인만 났지 공연승인은 안 받은 걸로 저희들이 통일부로 확인을 했습니다.\n",
      "--------------------------------------------------\n",
      "샘플 5:\n",
      "질문: 민주당 宋永吉 위원입니다.  존경하는 姜哲求 고등법원장님, 全度泳ㆍ姜完求ㆍ金相基 각 지방법원장님 이하 각 법관님들의 노고에 깊이 감사의 말씀을 드리겠습니다.  저희 광주 호남지역은 특별하게 판사님이나 검사님에 대한 존경이 상당히 높은 것으로 알고 있습니다. 저도 이 지역 출신이고 저희 부모님만을 보더라도, 국가 전체로는 판검사님들에 대한 평가가 상당히 부정적인 곳도 있습니다마는 저희 지역만큼은 대중들이 존경심을 상당히 많이 가지고 있다고 생각이 됩니다. 그런 만큼 책임과 역할이 더 중요하게 요구되는 것이 아닌가 생각됩니다.  첫 번째 질문을 올리겠습니다.  국가보안법 문제에 관련하여 존경하는 崔炳國 위원님께서 지적을 했습니다마는 제가 생각할 때, 국가보안법의 논쟁이 있습니다마는, 저는 위헌법률로 폐지되어야 한다고 생각을 가지고 있습니다. 최근에 국가보안법 적용에 있어서 법원에서도 여러 가지 곤란한 점이 있으리라고 생각이 됩니다.  광주지방법원은 7월 19일 한총련에 가입한 것을 이유로 조선대생 박성진 외 3명의 구속영장을 발부한 것으로 보도되었습니다. 또한 지난 13일에도 서일권이라는 학생 등 2명에 대해서 구속영장이 발부된 것으로 알고 있는데, 한총련 문제는 사실 일반 학생들의 총학생회가 대의원대회라는 의결기구를 통하여 가입한 대중적인 조직으로서 해마다 임기가 끝나면 총학생회가 바뀌게 되고 구체적인 비밀결사조직처럼 강령과 규약이 있어서 이적단체로서의 구성요건이 확실하게 갖추어져 있지 않음에도 불구하고, 물론 대법원에서 한총련을 이적단체로 규정을 했습니다마는 문제는 당시 5기 6기 한총련이 아니라 그 이후에 총학생회의 의결로 한총련에 가입되어 있기 때문에 그 규약에 따라서 이후에 당선된 총학생회장이 자신의 의사와는 상관없이 자동적으로 한총련에 가입하게 되어 있는데 단지 탈퇴를 하지 않았다는 이유로 이적단체가입죄로서 일괄적으로 구속하고 기소하는 행위는 상당히 문제가 있지 않은가 생각됩니다.  보고사항에도 20명의 국가보안법 위반자 중 현재 5명이 집행유예판결을 받은 것을 보더라도 실제로 실형이 선고된 경우는 전국적으로 2%에 불과한 실정인데 과연 현재 남북관계의 여러 가지 해빙 분위기에 맞추어서 볼 때 굳이 이런 학생들을 구속시켜서 기소할 필요가 있겠는가, 물론 아직 현행법이 있기 때문에 기소를 해서 재판에서 판결을 받을 필요가 있겠지만 굳이 이러한 학생들을 구속시키는 것은 문제가 있지 않느냐 하는 생각을 가지고 있습니다.  예를 들어서 대전지방법원에서는 남북화해 분위기를 감안해서 증거인멸이나 도주할 염려가 없는 점을 고려해서 대전지방법원 문정일 판사가 8기 한총련대의원으로 참가를 했던 대전총련 충남대학교 박찬영 학생에 대해서 구속영장을 기각한 사실이 있습니다.  제가 봤을 때 이 한총련 학생들이 구체적으로 폭력행위라든지 집시법 위반이라든지 어떤 법익을 침해하는 행위를 했으면 모르겠습니다마는 자신이 주도하지도 않았고 자기 선배가 위에서 가입된 한총련에 총학생회장으로 당선되었다는 이유로 자동적으로 가입되는, 단지 검찰이 요구한 시기에 탈퇴를 하지 않았다는 이유 하나밖에 없는데 그러한 학생을 굳이 그것도 전 학생들의 지지를 받아서 당선된 총학생회장, 간부들을 구속기소할 필요가 있는가에 대해서 법원장님의 견해를 듣고 싶습니다.  존경하는 崔炳國 위원님께서 엄격한 국가보안법의 적용을 말씀하셨습니다마는 국가보안법은 앞으로 개폐논의가 광범위하게 되고 있는 만큼, 또한 위헌법률 시비도 있고 특히 7조 같은 경우는 헌법재판소에서도 한정합헌 결정하는 것에 비추어 봤을 때 보다 탄력적인 적용이 필요하지 않을까 생각하는데 법원장님의 견해를 듣고 싶습니다.  두 번째는 위헌제청 건수에 대해서 여쭈어 보겠습니다.  저는 얼마 전에 실시된 대법관청문회에 영광스럽게 특위위원으로서 참여할 기회를 갖게 되었습니다. 그때 제가 질의한 사항 중에 대법관 후보님들께서 판사님으로 재직하던 시절에 위헌법률제청을 한 적이 있는가 물어봤을 때 한 분도 한 적이 있다는 대답을 못 들었습니다.  광주지방법원이나 고등법원에서 재판진행 과정에서 피고인이나 당사자 원피고의 신청에 의해서거나 아니면 직권에 의해서든 간에 위원법률제청 신청사건이 있는지 그 사례가 있다면 말씀해 주시기를 부탁드립니다.  그리고 거기에 덧붙여서 말씀드리고 싶은 것은 법률가와 율사의 차이점은 헌법적 감각을 가지고 있느냐의 여부에 따라 분류될 것이라고 봅니다. 그래서 우리의 최고법인 헌법적 가치를 위배하는 하위법률이 있을 때는 그러한 사실을 현재의 구체적 사건을 통해서 가장 정확하게 피부로 알 수 있는 분들이 당해 재판부에 계시는 분들이기 때문에 보다 적극적으로 헌법적 감각을 가지고 하위법률에 대한 고민의 성과가 장려되고 격려되는 법원 분위기가 필요하지 않을까 생각이 됩니다.  세 번째는 영장발부에 대해서 묻겠습니다.  법원장님께서 보고하신 대로 영장발부가 전국 평균에 비해서 상당히 낮은 것은 상당히 환영할 만하고 그만큼 광주법원의 관내 법원 판사님들께서 인권감각에 투철하다는 반증도 될 수 있다고 생각이 되는데, 하나 지적할 점은 감청영장과 체포영장 발부율이 상당히 높다는 것입니다. 사실상 포괄적인 감청이나 압수수색영장 등의 남용을 방지하기 위해서 대법원에서도 일부 기각제도 영장제도를 활성화시키기 위한 내규를 만든 것으로 알고 있습니다.  그런데 보고사항에 보니까 단 1건 정도 있는데 이러한 계좌추적영장이나 감청 등에 있어서의 포괄영장의 폐해를 방지하기 위한 일부 기각제도가 적극적으로 활용되고 있지 않는 이유가 무엇인지, 이러한 것을 앞으로 적극적으로 독려를 할 생각은 없으신지 여쭈어 보고 싶습니다.  그다음 질의사항으로는 회사정리ㆍ화의ㆍ파산제도의 관리실태에 대해서 여쭈어 보겠습니다.  보통 우리나라가 파산법이 너무 활성화되지 못하다 보니까 경영상의 회복 가능성이 있다는 이유로 화의개시 결정이나 회사정리법상의 중간적인 과도 단계를 거치게 되는데 이 과정에서 워크아웃에 들어간 기업이라든지 화의 중인 기업, 법정관리 중인 기업이 도덕적 해이에 빠져서 비자금을 조성한다든지 불법으로 자금을 유용하는 경우가 많이 발생하고 있습니다.  이에 따라 법무부가 최근에 제출한 국정감사자료에 의하면 회사자금 유용이나 비자금 조성, 허위 회계보고, 브로커와의 공모 등의 비리사실이 적발되어서 전국적으로 상당히 문제가 되고 있다고 생각이 됩니다.  제가 생각할 때는 이러한 문제의 원인이 법원에서 회사정리나 파산관재인을 선정을 할 때 일반적으로 변호사들한테 맡기고 있는데 저도 변호사로서 회사정리를 맡아 본 적이 있습니다. 그러나 이름만 빌려 주고 비용을 받는 수준이었지 전문적 지식이 결여되어 있고 실질적으로 그 부분에 대한 감시, 감독을 할 만한 역량이 없기 때문에 상당히 형식적으로 되고 있지 않는가, 그래서 광주법원에 40개, 전주지방법원에 31개, 제주지방법원에 7개의 관리회사가 있는 것으로 알고 있는데 대부분이 변호사로 선임이 되어 있고 그 변호사도 광주 같은 경우에 김모 변호사, 최모 변호사 등 일부 특정 변호사한테 집중이 되고 있는데 이러한 관재인이나 정리인을 선임하는 근거규정, 기준이 무엇인지 그리고 선임한 이후에 법원에서 어떻게 그런 것을 관리함으로써 이러한 도덕적 해이를 방지하고 있는지에 대해서 말씀해 주시기를 부탁드리겠습니다.  다음에 존경하는 趙舜衡 위원께서도 지적을 하셨습니다마는 재판에 있어서의 민원인들의 가장 불만점이 변호사가 선임되지 않는 경우에 있어서 시간을 예측할 수 없이 2시 재판인데도 중간에 아무런 안내방송도 없이 저녁 6시까지 기다릴 수밖에 없는 현상에 대해서 상당히 불만을 표시하고 있습니다.  그래서 법원에서도 시차적으로 2시, 3시, 4시, 이렇게 시간을 분리해서 소환하는 것을 검토하고 있는 것으로 알고 있습니다마는 이것이 실제로 그렇게 분류하더라도 객관적으로, 물리적으로 시간이 부족하기 때문에 서너 시간 이상씩 재판이 미뤄지는 경우가 많은데 이에 대한 대책이 있으면 말씀해 주시기 바랍니다.  또 하나는 金容鈞 위원님이 지적하셨듯이 지금 광주지방법원이나 전주ㆍ제주지방법원의 구속적부심이나 보석허가율이 보고가 됐습니다마는 그 과정에서 죄를 인정하지 않는, 자백하지 않는 사건, 간이공판절차로 가는 사건이 아니고 무죄를 다투고 있는 사건인 경우에 보석이나 적부심으로 석방된 경우가 있는지, 그 사례가 있으면 말씀해 주시기 바랍니다.  증거인멸과 도주우려를 방지하기 위해서 구속을 시킨다고 합니다마는 제가 생각할 때는 실질적으로 구속이 되면 모든 사회적, 정치적 생명이 심대한 타격을 받을 뿐만 아니라 일방적인 검찰의 공소사실에 대응하기 위한 피고인의 방어권이 현저하게 침해되기 때문에 무기대등의 원칙에서도 심각한 문제가 있다고 봅니다. 그런 면에서 이러한 사례가 있다면 말씀해 주시고, 사례가 없다면 이러한 경우에 있어서의 피고인의 방어권 측면이 고려되어야 하지 않는가에 대한 견해를 묻고 싶습니다.  또 하나는 광주지방법원에 홈페이지가 아직 개설이 안 되어 있는데 현재 대법원에는 홈페지가 개설되어 있는데 광주지방법원에서는 보도상으로 볼 때 ARS 정보이용 실태라든지 민원상담 등을 통해서 주민들의 커다란 호응을 얻고 있는 것으로 알고 있습니다.  상당히 아주 잘한 조치라고 보는데 특별하게 인터넷상으로 홈페이지를 통해서 제반 재판정보를 제공할 생각이 없는지, 춘천지방법원 같은 경우는 유일하게 인터넷 홈페지가 개설되어 있고 또한 의견을 민원인이 올릴 수 있는 게시판이 되어 있습니다. 대법원에는 그런 게시판이 없고 일방적인 홍보만 되어 있는데 춘천지법처럼 광주 쪽 법원도 이런 것을 할 의향이 없으신지 여쭈어 보고 싶습니다.  다음으로 제주지방법원에 여쭤 보겠습니다.  2000년 1월 7일 제주지법에서 사전구속영장에 이어 영장실질심사를 받은 후 구속 여부가 결정될 때까지의 시간을 이용해서 박모 씨가 도주한 사건이 발생된 것으로 보도되었습니다.  영장실질심사에 따른 여러 가지 문제가 있는데 구금시설이 없고 구금시설을 설치할 근거가 없다는 이유로 사실 검찰에서 영장실질심사제도를 현실성이 없다고 비판한 논거가 있습니다.  그래서 과연 제주지법에서는 이런 사태의 재발 방지를 위해서 어떤 조치를 하고 계시는지에 대해서 한번 여쭈어 보고 싶습니다.  마지막으로 제주지방법원에서는 사회봉사명령을 선고를 함으로써 시민으로부터 상당히 좋은 호응을 받고 있다는 언론을 보았습니다. 소년들에게 있어서 사회봉사명령이라든지 여러 가지 선도조건부 기소유예조치라든지 어떤 보호명령 이러한 것들이 취지는 좋습니다마는 실질적으로 관리가 안 되기 때문에 보호관찰도 받지 않고 도주한다든지 안 지키는 경우가 많은데 이런 사회봉사명령이 잘 되고 있다면 어느 정도의 효과를 가져 왔는지에 대해서 제주지방법원장님의 말씀을 듣고 싶습니다.  이상입니다.\n",
      "답변: 고등법원장 답변 올리겠습니다.  먼저 위원님들께서 구두답변을 요망하신 내용을 메모에 의해서 준비되는 대로 답변해 드리도록 하겠습니다.  한나라당 尹景湜 위원님께서 질의하신 내용 중 특별재판부 운영실태 및 평가결과에 대해서 우선 저희 법원에서는 그 명칭이 특별재판부가 아니라 특정 형사사건을 처리하는 형사부라고 부르고 있습니다.  저희 법원에서는 최근에 수석부장판사가 정년퇴임하시는 바람에 그런 사건이 발생했습니다마는 현재 수석부장판사가 재판장인 재판부에서 담당하고 있으며 해당 사건은 공개된 법정에서 심리하고 있습니다.  사무분담상 수석부장이 담당하는 재판부에서는 원래 민사, 행정, 가사 사건만 담당하고 있고 그래서 형사사건을 같은 법정에서 심리하기가 현실적으로 곤란해서 특별 기일을 지정하여 운영하고 있습니다.  그리고 특정 형사사건도 일반 형사사건과 마찬가지의 절차나 방식에 따라서 심리 판단하고 있고 작년 9월 1일부터 금년 8월 31일까지 특정 형사사건에 대하여 적부심으로 석방하거나 보석허가를 한 사건, 벌금형이나 집행유예를 선고한 사례는 단 1건도 없습니다. 위원님께서 지적하신 대로 이 사건에 관해서도 객관성이나 투명성과 관련하여 오해의 소지가 없도록 각별히 노력하도록 하겠습니다.  다음은 宋永吉 위원님께서 무죄를 주장하는 피고인에 대한 보석허가 불허 등 계속구금 사례가 있는지 여부에 대해서 물으셨는데 답변 올리겠습니다.  시간 관계로 통계상 당장 확인할 방법이 없습니다. 그래서 그러한 사례가 있는지는 알 수가 없고 앞으로 자료를 뽑아 보도록 하겠습니다. 위원님께서 질의하신 취지를 법관들에게 전달해서 무죄를 주장하더라도 보석을 불허하는 일이 없도록 보석이 합당하다고 생각하면 보석을 허가하도록 판사들에게 전달하도록 하겠습니다.  그다음, 법정안전을 위한 관계기관의 입체적, 물리적 대책마련 문제에 대해서는 지금까지는 특별한 대책을 마련하지 못했습니다. 오늘 위원님께서 좋은 말씀이 계셔서 앞으로 저희가 검찰이나 교도소, 구치소 및 경찰과 입체적, 물리적으로 대책을 마련하도록 연구ㆍ검토하겠습니다.  다음, 법정관계인의 기립에 대한 감사 인사 문제에 대해서는 李柱榮 위원님께서 지적하신 견해에 대해서 전적으로 동감합니다. 위원님의 좋은 말씀을 법관들에게 널리 알려서 법원도 인간적인 기본 예의를 갖추어서 재판한다는 것을 보이도록 노력하겠습니다.  그다음, 趙舜衡 위원님과 宋永吉 위원님께서 법관의 재판진행 태도에 관한 질의를 한 것에 대해서 말씀드리겠습니다.  저희 법원은 대법원 예규인 「바람직한 재판운영방안」에 따라서 평소에 법정에서 공손한 언어를 사용하고 재판기일을 시차제로 운영하여 변호인이 선임되지 아니한 당사자에게도 불편하지 않도록 배려하여 왔습니다. 그리고 입정 시간도 철저히 준수하고 있습니다. 저희 법원은 재판부가 4개 부밖에 되지 않기 때문에 이를 위반하는 재판부는 없는 것으로 알고 있습니다. 또한 판사 개개인이 사명감을 가지고 신뢰받는 법원상을 구현하도록 전체 판사회의 석상에서나 개별적인 대화를 통해서 수시로 논의를 계속하고 있습니다.  다음, 千正培 위원님께서 지적하신 법원의 인권의식 제고방안에 대해서는 위원님의 지적에 전적으로 동감하면서 헌법과 법률에 의하여 양심에 따라 독립하여 재판하는 법관으로서 그동안 인권의식이 미비하였다면 깊이 반성하고 앞으로 인권의식에 투철하고 헌법적 감각이 무디지 않도록 법관회의나 법관세미나를 통해서 논의하도록 하겠습니다.  宋永吉 위원님께서 저희 법원에 위헌법률제청 신청건수가 있는지 물으셨는데 지난 1년 동안 저희 법원에서 위헌제청 신청을 한 사건은 없습니다.  위원님의 지적을 겸허히 받아들여서 앞으로는 법률의 위헌 여부에 대하여 보다 진지한 검토를 거쳐서 필요하다면 과감하게 위헌제청을 하도록 적극 권장하도록 하겠습니다.  나머지 부분은 지방법원장님의 답변사항에 해당될 것 같아서 고등법원에서는 이상으로 구두답변을 마치고 다른 질의사항은 서면으로 답변 올리도록 하겠습니다.\n",
      "--------------------------------------------------\n"
     ]
    }
   ],
   "source": [
    "import json\n",
    "import os\n",
    "\n",
    "# 라벨링된 JSON 파일 경로\n",
    "file_path = \"/mnt/c/study/KISTI_AI/023.국회 회의록 기반 지식검색 데이터/3.개방데이터/1.데이터/Training/02.라벨링데이터/라벨링데이터.json\"\n",
    "\n",
    "# JSON 파일 로드 및 예외 처리\n",
    "try:\n",
    "    # 파일 존재 여부 확인\n",
    "    if not os.path.exists(file_path):\n",
    "        raise FileNotFoundError(f\"파일을 찾을 수 없습니다. 경로를 확인해주세요: {file_path}\")\n",
    "\n",
    "    # JSON 파일 읽기\n",
    "    with open(file_path, 'r', encoding='utf-8') as f:\n",
    "        qa_data = json.load(f)\n",
    "    print(f\"JSON 파일이 정상적으로 로드되었습니다. 총 {len(qa_data)}개의 질문-답변 쌍이 있습니다.\")\n",
    "    \n",
    "    # 첫 5개의 질문-답변 쌍 확인\n",
    "    print(\"\\n첫 5개의 질문-답변 쌍 확인:\\n\")\n",
    "    for i, item in enumerate(qa_data[:5]):\n",
    "        print(f\"샘플 {i + 1}:\")\n",
    "        print(f\"질문: {item.get('question')}\")\n",
    "        print(f\"답변: {item.get('answer')}\")\n",
    "        print(\"-\" * 50)\n",
    "\n",
    "except FileNotFoundError:\n",
    "    print(f\"파일을 찾을 수 없습니다. 경로를 확인해주세요: {file_path}\")\n",
    "except json.JSONDecodeError:\n",
    "    print(\"JSON 파일을 읽는 중 오류가 발생했습니다. 파일 형식이 올바른지 확인해주세요.\")\n",
    "except Exception as e:\n",
    "    print(f\"오류 발생: {e}\")\n"
   ]
  },
  {
   "cell_type": "code",
   "execution_count": null,
   "id": "d879ec12-e1b6-4b86-83dd-33904b130ac5",
   "metadata": {},
   "outputs": [],
   "source": []
  },
  {
   "cell_type": "markdown",
   "id": "617cb948-46bc-4eac-9494-f3f1087e1201",
   "metadata": {},
   "source": [
    "3. 데이터 전처리: 형태소 분석과 불용어 제거"
   ]
  },
  {
   "cell_type": "markdown",
   "id": "5684718e-94b8-4b06-94e6-84b3980e2f43",
   "metadata": {},
   "source": [
    "개선된 코드?"
   ]
  },
  {
   "cell_type": "code",
   "execution_count": 3,
   "id": "396ef6cc-a306-4d27-8e49-7d0660824bbc",
   "metadata": {},
   "outputs": [],
   "source": [
    "import re\n",
    "from konlpy.tag import Mecab\n",
    "import time\n",
    "\n",
    "# Mecab 형태소 분석기 로드\n",
    "mecab = Mecab()\n",
    "\n",
    "# 불용어 리스트 정의 (set 자료형 사용)\n",
    "stop_words = set([\n",
    "    \"것\", \"있다\", \"하다\", \"입니다\", \"그리고\", \"하지만\", \"또한\", \"그런데\", \"저는\", \"우리는\", \"그래서\", \"이것\", \"저것\", \"그것\",\n",
    "    \"다시\", \"모든\", \"각각\", \"모두\", \"어느\", \"몇몇\", \"이런\", \"저런\", \"그런\", \"어떤\", \"특히\", \"즉\", \"또\", \"이후\", \"때문에\", \"통해서\",\n",
    "    \"같은\", \"많은\", \"따라서\", \"등\", \"경우\", \"관련\", \"대해\", \"의해\", \"이기\", \"대한\", \"그리고\", \"라고\", \"이라는\", \"에서\", \"부터\", \"까지\",\n",
    "    \"와\", \"과\", \"으로\", \"에\", \"의\", \"를\", \"가\", \"도\", \"로\", \"에게\", \"만\", \"뿐\", \"듯\", \"제\", \"내\", \"저\", \"그\", \"할\", \"수\", \"있\", \"같\",\n",
    "    \"되\", \"보다\", \"아니\", \"아닌\", \"이\", \"있어서\", \"입니다\", \"있습니다\", \"합니다\", \"입니까\", \"같습니다\", \"아닙니다\", \"라는\", \"그러므로\", \n",
    "    \"입니다만\", \"때문입니다\", \"라고요\", \"그러하다\", \"하고\", \"이와\"\n",
    "])\n",
    "\n",
    "# 긴 텍스트를 슬라이싱하는 함수 정의 (최소 길이 조건 추가)\n",
    "def slice_long_text(text, max_length=512, overlap=50, min_length=50):\n",
    "    tokens = mecab.morphs(text)  # 형태소 분석을 통한 토큰화\n",
    "    sliced_texts = []\n",
    "    start_idx = 0\n",
    "\n",
    "    while start_idx < len(tokens):\n",
    "        end_idx = min(start_idx + max_length, len(tokens))\n",
    "        slice = tokens[start_idx:end_idx]\n",
    "        \n",
    "        if len(slice) >= min_length:\n",
    "            sliced_texts.append(\" \".join(slice))\n",
    "        \n",
    "        start_idx = end_idx - overlap  # overlap 만큼 겹치게 슬라이싱\n",
    "\n",
    "    return sliced_texts\n",
    "\n",
    "# 여러 문장을 한 번에 처리하도록 최적화된 함수\n",
    "def preprocess_text_batch(texts):\n",
    "    preprocessed_texts = []\n",
    "\n",
    "    # 형태소 분석을 한 번에 수행\n",
    "    for text in texts:\n",
    "        tokens = mecab.morphs(text)  # 형태소 분석\n",
    "\n",
    "        # 불용어 제거 및 특수문자 제거\n",
    "        tokens = [word for word in tokens if word not in stop_words]\n",
    "        preprocessed_text = \" \".join(tokens)\n",
    "        preprocessed_texts.append(preprocessed_text)\n",
    "\n",
    "    return preprocessed_texts\n"
   ]
  },
  {
   "cell_type": "code",
   "execution_count": 4,
   "id": "01280e3f-d620-48e1-b52f-03826dd969c2",
   "metadata": {},
   "outputs": [
    {
     "name": "stdout",
     "output_type": "stream",
     "text": [
      "전처리 전과 후 비교:\n",
      "\n",
      "원본: 저는 오늘 국회 회의에 참석하여 중요한 발표를 했습니다.\n",
      "전처리 후: 는 오늘 국회 회의 참석 하 여 중요 한 발표 했 습니다 .\n",
      "--------------------------------------------------\n",
      "원본: 정부 정책에 대한 국민들의 반응이 매우 긍정적입니다.\n",
      "전처리 후: 정부 정책 국민 들 반응 매우 긍정 적 .\n",
      "--------------------------------------------------\n",
      "원본: 이 법안이 통과될 경우, 앞으로의 경제 상황이 나아질 것입니다.\n",
      "전처리 후: 법안 통과 될 , 앞 경제 상황 나아질 .\n",
      "--------------------------------------------------\n",
      "총 소요 시간: 0.0631 초\n"
     ]
    }
   ],
   "source": [
    "# 샘플 데이터로 시간 측정\n",
    "sample_data = [\n",
    "    \"저는 오늘 국회 회의에 참석하여 중요한 발표를 했습니다.\",\n",
    "    \"정부 정책에 대한 국민들의 반응이 매우 긍정적입니다.\",\n",
    "    \"이 법안이 통과될 경우, 앞으로의 경제 상황이 나아질 것입니다.\"\n",
    "]\n",
    "\n",
    "# 전처리 전과 후의 시간 측정\n",
    "print(\"전처리 전과 후 비교:\\n\")\n",
    "start_time = time.time()  # 시작 시간\n",
    "preprocessed_texts = preprocess_text_batch(sample_data)\n",
    "end_time = time.time()  # 끝난 시간\n",
    "\n",
    "for i, preprocessed in enumerate(preprocessed_texts):\n",
    "    print(f\"원본: {sample_data[i]}\")\n",
    "    print(f\"전처리 후: {preprocessed}\")\n",
    "    print(\"-\" * 50)\n",
    "\n",
    "print(f\"총 소요 시간: {end_time - start_time:.4f} 초\")\n"
   ]
  },
  {
   "cell_type": "markdown",
   "id": "ebd6b6ef-03a1-4b96-975a-3e5241be5be3",
   "metadata": {},
   "source": [
    "4. BERT Tokenizer를 사용한 토큰화"
   ]
  },
  {
   "cell_type": "code",
   "execution_count": 6,
   "id": "3f481f9e-81e2-488f-9448-f277196f259a",
   "metadata": {},
   "outputs": [],
   "source": [
    "import gc  # 메모리 관리 모듈\n",
    "from transformers import BertTokenizer\n",
    "import torch\n",
    "\n",
    "# BERT Tokenizer 로드 (한국어 지원되는 BERT 모델)\n",
    "tokenizer = BertTokenizer.from_pretrained('bert-base-multilingual-cased')\n",
    "\n",
    "def tokenize_text_batch(questions, answers, batch_size=2):\n",
    "    \"\"\"\n",
    "    여러 질문과 답변을 배치 단위로 토큰화하며 긴 텍스트 처리\n",
    "    :param questions: 질문 리스트\n",
    "    :param answers: 답변 리스트\n",
    "    :param batch_size: 배치 사이즈\n",
    "    :return: 모든 배치의 input_ids_list와 attention_mask_list\n",
    "    \"\"\"\n",
    "    input_ids_list = []\n",
    "    attention_mask_list = []\n",
    "\n",
    "    for i in range(0, len(questions), batch_size):\n",
    "        batch_questions = questions[i:i+batch_size]\n",
    "        batch_answers = answers[i:i+batch_size]\n",
    "\n",
    "        # BERT Tokenizer로 배치 토큰화\n",
    "        inputs = tokenizer(\n",
    "            batch_questions,\n",
    "            batch_answers,\n",
    "            max_length=512,\n",
    "            padding='max_length',\n",
    "            truncation=True,\n",
    "            return_tensors='pt'  # PyTorch 텐서 형식으로 반환\n",
    "        )\n",
    "\n",
    "        input_ids_list.append(inputs['input_ids'])\n",
    "        attention_mask_list.append(inputs['attention_mask'])\n",
    "\n",
    "        # 메모리 정리\n",
    "        gc.collect()\n",
    "\n",
    "    return torch.cat(input_ids_list, dim=0), torch.cat(attention_mask_list, dim=0)\n"
   ]
  },
  {
   "cell_type": "code",
   "execution_count": null,
   "id": "a8d6ed0d-7441-4ea4-9a72-41fe900dfedc",
   "metadata": {},
   "outputs": [],
   "source": [
    "# 샘플 질문과 답변 리스트\n",
    "questions = [\n",
    "    \"저는 오늘 국회 회의에 참석하여 중요한 발표를 했습니다.\",\n",
    "    \"정부 정책에 대한 국민들의 반응이 매우 긍정적입니다.\"\n",
    "]\n",
    "answers = [\n",
    "    \"오늘 회의에서는 정부의 새로운 정책에 대해 논의가 있었습니다.\",\n",
    "    \"발표된 정책에 대한 세부 사항을 공유했습니다.\"\n",
    "]\n",
    "\n",
    "# 토큰화 및 배치 처리\n",
    "input_ids_batch, attention_mask_batch = tokenize_text_batch(questions, answers)\n",
    "\n",
    "# 메모리 정리\n",
    "gc.collect()\n",
    "\n",
    "# 결과 확인\n",
    "for i in range(input_ids_batch.size(0)):\n",
    "    print(f\"슬라이스 {i+1}:\")\n",
    "    print(\"Input IDs:\", input_ids_batch[i])\n",
    "    print(\"Attention Mask:\", attention_mask_batch[i])\n",
    "    print(\"-\" * 50)\n"
   ]
  },
  {
   "cell_type": "markdown",
   "id": "c163a7f9-2039-4ea8-9801-1ec5723faafb",
   "metadata": {},
   "source": [
    "5. 데이터셋 준비: 데이터셋을 정의하고, DataLoader로 데이터를 배치 단위로 나눕니다."
   ]
  },
  {
   "cell_type": "code",
   "execution_count": 9,
   "id": "9bb0ef99-1826-48bb-a532-14a445349572",
   "metadata": {},
   "outputs": [
    {
     "ename": "NameError",
     "evalue": "name 'data' is not defined",
     "output_type": "error",
     "traceback": [
      "\u001b[0;31m---------------------------------------------------------------------------\u001b[0m",
      "\u001b[0;31mNameError\u001b[0m                                 Traceback (most recent call last)",
      "Cell \u001b[0;32mIn[9], line 30\u001b[0m\n\u001b[1;32m     24\u001b[0m         \u001b[38;5;28;01mreturn\u001b[39;00m {\n\u001b[1;32m     25\u001b[0m             \u001b[38;5;124m'\u001b[39m\u001b[38;5;124minput_ids\u001b[39m\u001b[38;5;124m'\u001b[39m: input_ids_list,\n\u001b[1;32m     26\u001b[0m             \u001b[38;5;124m'\u001b[39m\u001b[38;5;124mattention_mask\u001b[39m\u001b[38;5;124m'\u001b[39m: attention_mask_list\n\u001b[1;32m     27\u001b[0m         }\n\u001b[1;32m     29\u001b[0m \u001b[38;5;66;03m# 데이터셋 생성\u001b[39;00m\n\u001b[0;32m---> 30\u001b[0m dataset \u001b[38;5;241m=\u001b[39m QADataset(\u001b[43mdata\u001b[49m)\n\u001b[1;32m     32\u001b[0m \u001b[38;5;66;03m# DataLoader로 데이터를 배치 단위로 준비\u001b[39;00m\n\u001b[1;32m     33\u001b[0m \u001b[38;5;66;03m# 여기서는 collate_fn을 사용하여 슬라이스된 텍스트들을 처리할 수 있게 설정\u001b[39;00m\n\u001b[1;32m     34\u001b[0m \u001b[38;5;28;01mdef\u001b[39;00m \u001b[38;5;21mcollate_fn\u001b[39m(batch):\n",
      "\u001b[0;31mNameError\u001b[0m: name 'data' is not defined"
     ]
    }
   ],
   "source": [
    "import json\n",
    "import os\n",
    "\n",
    "# 라벨링된 JSON 파일 경로\n",
    "file_path = \"/mnt/c/study/KISTI_AI/023.국회 회의록 기반 지식검색 데이터/3.개방데이터/1.데이터/Training/02.라벨링데이터/라벨링데이터.json\"\n",
    "\n",
    "# JSON 파일 로드\n",
    "try:\n",
    "    with open(file_path, 'r', encoding='utf-8') as f:\n",
    "        data = json.load(f)  # 여기가 data 변수를 정의하는 부분입니다.\n",
    "    print(f\"JSON 파일이 정상적으로 로드되었습니다. 총 {len(data)}개의 질문-답변 쌍이 있습니다.\")\n",
    "except FileNotFoundError:\n",
    "    print(f\"파일을 찾을 수 없습니다. 경로를 확인해주세요: {file_path}\")\n",
    "except json.JSONDecodeError:\n",
    "    print(\"JSON 파일을 읽는 중 오류가 발생했습니다. 파일 형식이 올바른지 확인해주세요.\")\n",
    "except Exception as e:\n",
    "    print(f\"오류 발생: {e}\")\n",
    "\n",
    "# DataLoader 설정\n",
    "dataloader = DataLoader(dataset, batch_size=8, shuffle=True, collate_fn=collate_fn)\n",
    "\n",
    "# 배치 확인\n",
    "for batch in dataloader:\n",
    "    print(batch['input_ids'].shape)\n",
    "    print(batch['attention_mask'].shape)\n",
    "    break\n"
   ]
  },
  {
   "cell_type": "markdown",
   "id": "d9079337-2aad-4fa9-8adf-59618f9fdceb",
   "metadata": {},
   "source": [
    "6. 데이터 확인: 배치된 데이터를 확인하고, 학습에 사용할 준비가 되었는지 검증합니다."
   ]
  },
  {
   "cell_type": "code",
   "execution_count": null,
   "id": "58aac34a-52b6-49d1-aeca-6cf5a46fef02",
   "metadata": {},
   "outputs": [],
   "source": [
    "# 데이터셋에서 샘플 확인\n",
    "for batch in dataloader:\n",
    "    print(\"Input IDs (첫 번째 배치):\", batch['input_ids'])\n",
    "    print(\"Attention Mask (첫 번째 배치):\", batch['attention_mask'])\n",
    "    break  # 첫 번째 배치만 확인\n"
   ]
  },
  {
   "cell_type": "code",
   "execution_count": null,
   "id": "a21d9da3-42dc-4abb-81c5-1908c4e8ea7d",
   "metadata": {},
   "outputs": [],
   "source": []
  },
  {
   "cell_type": "code",
   "execution_count": null,
   "id": "bb3c5cef-a552-40ed-95c3-cd85ee602355",
   "metadata": {},
   "outputs": [],
   "source": []
  },
  {
   "cell_type": "code",
   "execution_count": null,
   "id": "c7b49cd6-67ed-496b-be03-4bcf85fa5a24",
   "metadata": {},
   "outputs": [],
   "source": []
  },
  {
   "cell_type": "code",
   "execution_count": null,
   "id": "2a3c5918-4f67-46fc-abcb-b3079794b87c",
   "metadata": {},
   "outputs": [],
   "source": []
  },
  {
   "cell_type": "code",
   "execution_count": null,
   "id": "10c75c2a-8163-4113-8b39-a94bcb6dd25d",
   "metadata": {},
   "outputs": [],
   "source": []
  },
  {
   "cell_type": "code",
   "execution_count": null,
   "id": "641b6d9d-432d-4af7-9ba5-ef7618f30a62",
   "metadata": {},
   "outputs": [],
   "source": []
  },
  {
   "cell_type": "code",
   "execution_count": null,
   "id": "5362c45d-bcb3-4fda-b074-b3ad52e46d99",
   "metadata": {},
   "outputs": [],
   "source": []
  },
  {
   "cell_type": "code",
   "execution_count": null,
   "id": "95befc0a-2dac-4c62-b3c4-9387b8b07e19",
   "metadata": {},
   "outputs": [],
   "source": []
  },
  {
   "cell_type": "code",
   "execution_count": null,
   "id": "c8da388a-fcaf-427b-8e4d-7922dba1cbba",
   "metadata": {},
   "outputs": [],
   "source": []
  },
  {
   "cell_type": "code",
   "execution_count": null,
   "id": "3bc41d45-14e0-4fda-bfca-b2ae688b4626",
   "metadata": {},
   "outputs": [],
   "source": []
  },
  {
   "cell_type": "code",
   "execution_count": null,
   "id": "d8b8764c-9996-4872-8872-b1d912707963",
   "metadata": {},
   "outputs": [],
   "source": []
  },
  {
   "cell_type": "code",
   "execution_count": null,
   "id": "f76ae8f6-bb42-4cbc-a5ae-0285a966da1c",
   "metadata": {},
   "outputs": [],
   "source": []
  },
  {
   "cell_type": "code",
   "execution_count": null,
   "id": "d34da635-2647-42a9-9597-a2160a2a858c",
   "metadata": {},
   "outputs": [],
   "source": []
  },
  {
   "cell_type": "code",
   "execution_count": null,
   "id": "36be92ca-72c2-457e-a141-5e10692350d5",
   "metadata": {},
   "outputs": [],
   "source": []
  },
  {
   "cell_type": "code",
   "execution_count": null,
   "id": "abc6e5eb-ba76-420f-9124-12fcece16af4",
   "metadata": {},
   "outputs": [],
   "source": []
  }
 ],
 "metadata": {
  "kernelspec": {
   "display_name": "Python 3 (ipykernel)",
   "language": "python",
   "name": "python3"
  },
  "language_info": {
   "codemirror_mode": {
    "name": "ipython",
    "version": 3
   },
   "file_extension": ".py",
   "mimetype": "text/x-python",
   "name": "python",
   "nbconvert_exporter": "python",
   "pygments_lexer": "ipython3",
   "version": "3.10.15"
  }
 },
 "nbformat": 4,
 "nbformat_minor": 5
}
