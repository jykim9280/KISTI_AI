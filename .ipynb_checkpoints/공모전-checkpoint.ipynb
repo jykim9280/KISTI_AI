{
 "cells": [
  {
   "cell_type": "code",
   "execution_count": 1,
   "id": "03f3528b-f5e0-42e1-b6b6-73d0a0b9cf83",
   "metadata": {},
   "outputs": [],
   "source": [
    "import os\n",
    "import sys\n",
    "import urllib.request\n",
    "# from dotenv import load_dotenv\n",
    "# load_dotenv()\n",
    "import pandas as pd\n",
    "import requests"
   ]
  },
  {
   "cell_type": "code",
   "execution_count": 2,
   "id": "81e5e8b4-e515-4176-98db-293d5b561f40",
   "metadata": {},
   "outputs": [
    {
     "name": "stdout",
     "output_type": "stream",
     "text": [
      "Requirement already satisfied: openpyxl in /home/user/miniforge3/envs/nlp/lib/python3.10/site-packages (3.1.5)\n",
      "Requirement already satisfied: et-xmlfile in /home/user/miniforge3/envs/nlp/lib/python3.10/site-packages (from openpyxl) (1.1.0)\n"
     ]
    }
   ],
   "source": [
    "!pip install openpyxl"
   ]
  },
  {
   "cell_type": "code",
   "execution_count": 3,
   "id": "e52dc0d9-620a-4ae1-bf57-29777e13035b",
   "metadata": {},
   "outputs": [],
   "source": [
    "import warnings\n",
    "\n",
    "# 경고 메시지 무시 설정\n",
    "warnings.filterwarnings(\"ignore\", category=UserWarning, module=\"openpyxl\")"
   ]
  },
  {
   "cell_type": "code",
   "execution_count": null,
   "id": "bf0c139b-0f9f-45df-a0fc-8db686784d2f",
   "metadata": {},
   "outputs": [],
   "source": []
  },
  {
   "cell_type": "code",
   "execution_count": 22,
   "id": "88877c8d-fab4-4939-8f96-96094a39abdb",
   "metadata": {},
   "outputs": [
    {
     "name": "stdout",
     "output_type": "stream",
     "text": [
      "모든 파일 처리가 완료되었습니다.\n"
     ]
    }
   ],
   "source": [
    "import pandas as pd\n",
    "import json\n",
    "import glob\n",
    "import os\n",
    "\n",
    "# 엑셀 파일들이 들어 있는 최상위 폴더 경로 (리눅스 경로로 수정)\n",
    "base_dir = r\"/mnt/c/study/KISTI_AI/023.국회 회의록 기반 지식검색 데이터/3.개방데이터/1.데이터/Training/01.원천데이터\"\n",
    "\n",
    "# 모든 하위 폴더 내 엑셀 파일 경로 검색\n",
    "excel_files = glob.glob(os.path.join(base_dir, '**', '*.xlsx'), recursive=True)\n",
    "\n",
    "qa_data = []  # JSON으로 저장할 데이터 리스트\n",
    "\n",
    "# 모든 엑셀 파일 읽기\n",
    "for file_path in excel_files:\n",
    "    try:\n",
    "        # 엑셀 파일 읽기\n",
    "        df = pd.read_excel(file_path)\n",
    "\n",
    "        question_info = None  # 현재 질문 정보를 저장할 변수\n",
    "\n",
    "        # 각 행을 순회하며 질문(Q)과 답변(A) 추출\n",
    "        for idx, row in df.iterrows():\n",
    "            if row['질의응답'] == 'Q':  # 질문일 때\n",
    "                question_info = {\n",
    "                    \"question\": row['발언내용'],\n",
    "                    \"회의번호\": row['회의번호'],\n",
    "                    \"질의응답번호\": row['질의응답번호'],\n",
    "                    \"회의구분\": row['회의구분'],\n",
    "                    \"위원회\": row['위원회'],\n",
    "                    \"회의일자\": row['회의일자'],\n",
    "                    \"질문자\": row['의원ID'],\n",
    "                    \"질문자_ISNI\": row['ISNI']\n",
    "                }\n",
    "            elif row['질의응답'] == 'A' and question_info is not None:  # 답변일 때\n",
    "                answer_info = {\n",
    "                    \"answer\": row['발언내용'],\n",
    "                    \"답변자\": row['의원ID'],\n",
    "                    \"답변자_ISNI\": row['ISNI']\n",
    "                }\n",
    "                # 질문과 답변을 연결하여 하나의 JSON 객체로 만듦\n",
    "                qa_data.append({**question_info, **answer_info})\n",
    "                question_info = None  # 사용 후 질문 정보를 초기화\n",
    "\n",
    "    except FileNotFoundError:\n",
    "        print(f\"파일을 찾을 수 없습니다: {file_path}\")\n",
    "    except pd.errors.EmptyDataError:\n",
    "        print(f\"빈 파일이므로 건너뜁니다: {file_path}\")\n",
    "    except Exception as e:\n",
    "        print(f\"파일 처리 중 오류 발생 ({file_path}): {e}\")\n",
    "\n",
    "# 라벨링 데이터 파일 저장 경로 (리눅스 경로로 수정)\n",
    "save_dir = r\"/mnt/c/study/KISTI_AI/023.국회 회의록 기반 지식검색 데이터/3.개방데이터/1.데이터/Training/02.라벨링데이터\"\n",
    "save_path = os.path.join(save_dir, '라벨링데이터.json')\n",
    "\n",
    "# 디렉토리가 존재하지 않으면 생성\n",
    "os.makedirs(save_dir, exist_ok=True)\n",
    "\n",
    "# JSON 파일로 저장\n",
    "try:\n",
    "    with open(save_path, 'w', encoding='utf-8') as f:\n",
    "        json.dump(qa_data, f, ensure_ascii=False, indent=4)\n",
    "    print(\"모든 파일 처리가 완료되었습니다.\")\n",
    "except Exception as e:\n",
    "    print(f\"JSON 파일 저장 중 오류 발생: {e}\")\n"
   ]
  },
  {
   "cell_type": "code",
   "execution_count": 23,
   "id": "654224a4",
   "metadata": {
    "scrolled": true
   },
   "outputs": [
    {
     "name": "stdout",
     "output_type": "stream",
     "text": [
      "데이터 샘플 확인 (처음 5개 질문-답변 쌍):\n",
      "샘플 1:\n",
      "{\n",
      "    \"question\": \"우리 사장이나 간부들이 이것을 대단히 소홀하게 중요하지 않게 생각하는데 끝까지 내 이야기에 대한 답변이 나오지 않았습니다.  공역문제인데 아까 공역을 전부 예를 들었습니다마는 가령 미공군 매향리 사격장, 한ㆍ미합동훈련장 또 여주 공군사격장, 수도권 비행금지구역, 휴전선 비행금지구역 이렇게 공역이 되어 있는데 앞으로 허브공항으로서 많은 비행기가 오는 곳에 공역이 도처에 있어요. 과연 그 공역을 피해 갈 수 있을 것인가에 대한 어려움을 우리 건교부하고 미8군하고 국방부하고 협의해서 공역문제는 사전에 합의를 보아야 할 문제인데 이것에 대해서 사장은 어떤 생각을 가지고 있느냐고 물어 보았습니다. 답변을 해주십시오.\",\n",
      "    \"회의번호\": 30045,\n",
      "    \"질의응답번호\": 1,\n",
      "    \"회의구분\": \"국정감사\",\n",
      "    \"위원회\": \"건설교통위원회\",\n",
      "    \"회의일자\": \"2000年10月19日(木)\",\n",
      "    \"질문자\": \"3337\",\n",
      "    \"질문자_ISNI\": \"0000000463657210\",\n",
      "    \"answer\": \"서면으로 답변을 드리려고 했습니다마는 공역문제는 너무 중요한 문제입니다. 그리고 당장은 아니지만 2, 3년 앞을 내다보면 매우 심각한 문제입니다. 미국 정부에서도 그 심각성을 인정하고 있습니다. 그래서 제가 알기로는 건교부에서 국방부, 미 당국과도 협의를 이미 진행하고 있습니다.   그래서 공역을 변경하기로 일부 합의되어서 저희 공항개항과 더불어 현재의 공역보다도 많이 여유를 갖게 되어 있습니다. 그리고 근본적인 문제는 앞으로 한ㆍ미간 또는 국내에서 국방부와 협의가 계속 진행될 것으로 알고 있습니다.\",\n",
      "    \"답변자\": \" \",\n",
      "    \"답변자_ISNI\": \" \"\n",
      "}\n",
      "--------------------------------------------------\n",
      "샘플 2:\n",
      "{\n",
      "    \"question\": \"제가 아까 한 질의는 아주 근본적인 질의거든요.  평가원이라는 것이 책임이 막중하지요.  이번에 R&D가 3조 이상 나갔고 2조2,000 이상을 평가하고 그것이 앞으로 우리나라의 방향을 제시해 주는 것 아닙니까, 그런데 그 평가 아까 말씀드린 것 이해하시지요?  근본적으로 저는 그 12개 카테고리가 아주 무작위적이고 그런데 전반적으로 이 시스템을 다 바꿔야 돼요.  아니면 평가기반이 지금 흔들리면 이렇게 많은 것을 하는데 아무 의미가 없다라는 생각이 저는 듭니다.\",\n",
      "    \"회의번호\": 29300,\n",
      "    \"질의응답번호\": 1,\n",
      "    \"회의구분\": \"국정감사\",\n",
      "    \"위원회\": \"과학기술정보통신위원회\",\n",
      "    \"회의일자\": \"2000年10月19日(木)\",\n",
      "    \"질문자\": \"6590\",\n",
      "    \"질문자_ISNI\": \"0000000022912992\",\n",
      "    \"answer\": \"그것은 위원님 꾸중을 안 하신다는 전제하에 말씀드리겠습니다.  저도 어떤 기계를 분해만 하려면 쉽게 합니다마는 분해한 기계를 다시 조립하는 과정에 또 어려움도 있어서 그 말씀하신 충정을 제가 다 이해하면서도 좀 잠정적으로 정말 짚어가면서 해야 되지 않는가 하는 것이 이게 산 생체를 다루는 의사의 입장이라는 것도 한번 좀 이해해 주시고 저 개인으로 돌아가서는 정말 위원님이 말씀하시는 것하고 하나 이의가 없습니다.\",\n",
      "    \"답변자\": \" \",\n",
      "    \"답변자_ISNI\": \" \"\n",
      "}\n",
      "--------------------------------------------------\n",
      "샘플 3:\n",
      "{\n",
      "    \"question\": \"좋습니다. 제가 얘기를 마저 할게요.  그 다음에 지금 단속기간을 정해서 단속을 하고 계십니까, 아니면 그런 기간을 설정하지 않고 있습니까?\",\n",
      "    \"회의번호\": 29329,\n",
      "    \"질의응답번호\": 1,\n",
      "    \"회의구분\": \"국정감사\",\n",
      "    \"위원회\": \"농림해양수산위원회\",\n",
      "    \"회의일자\": \"2000年10月19日(木)\",\n",
      "    \"질문자\": \"169\",\n",
      "    \"질문자_ISNI\": \"0000000463656947\",\n",
      "    \"answer\": \"저희 해경이 주관해서 단속기간을 설정해서 불법 소형 기선저인망을 단속하는 경우는 없고 지방해양수산청이나 시ㆍ도에서 주관해서 합동단속을 요청할 경우 저희가 단속에 같이 공조를 하고 있습니다.\",\n",
      "    \"답변자\": \" \",\n",
      "    \"답변자_ISNI\": \" \"\n",
      "}\n",
      "--------------------------------------------------\n",
      "샘플 4:\n",
      "{\n",
      "    \"question\": \"지금 장관 답변이 CNA는 통일부의 승인을 못 받았기 때문에 못한 것이고 교향악단 합동공연은 당국 간의 합의하에 결정이 됐기 때문에 공연이 됐다 그런 이야기 아닙니까?\",\n",
      "    \"회의번호\": 29044,\n",
      "    \"질의응답번호\": 1,\n",
      "    \"회의구분\": \"국정감사\",\n",
      "    \"위원회\": \"문화관광위원회\",\n",
      "    \"회의일자\": \"2000年10月19日(木)\",\n",
      "    \"질문자\": \"2510\",\n",
      "    \"질문자_ISNI\": \"0000000026916763\",\n",
      "    \"answer\": \"조금 부가설명을 제가 올리겠습니다.   당초에 저희들이 파악하고 있기로는 CNA에서 서울 초청공연과 북한공연의 접촉 승인은 받았습니다. KBS에서······ 그러나 북한공연은 승인이 났는데 현금지급을 다 못했기 때에 북경에서 평양으로 못 들어간 걸로 알고 있습니다. 그러나 서울 초청공연 문제는 접촉승인만 났지 공연승인은 안 받은 걸로 저희들이 통일부로 확인을 했습니다.\",\n",
      "    \"답변자\": \" \",\n",
      "    \"답변자_ISNI\": \" \"\n",
      "}\n",
      "--------------------------------------------------\n",
      "샘플 5:\n",
      "{\n",
      "    \"question\": \"민주당 宋永吉 위원입니다.  존경하는 姜哲求 고등법원장님, 全度泳ㆍ姜完求ㆍ金相基 각 지방법원장님 이하 각 법관님들의 노고에 깊이 감사의 말씀을 드리겠습니다.  저희 광주 호남지역은 특별하게 판사님이나 검사님에 대한 존경이 상당히 높은 것으로 알고 있습니다. 저도 이 지역 출신이고 저희 부모님만을 보더라도, 국가 전체로는 판검사님들에 대한 평가가 상당히 부정적인 곳도 있습니다마는 저희 지역만큼은 대중들이 존경심을 상당히 많이 가지고 있다고 생각이 됩니다. 그런 만큼 책임과 역할이 더 중요하게 요구되는 것이 아닌가 생각됩니다.  첫 번째 질문을 올리겠습니다.  국가보안법 문제에 관련하여 존경하는 崔炳國 위원님께서 지적을 했습니다마는 제가 생각할 때, 국가보안법의 논쟁이 있습니다마는, 저는 위헌법률로 폐지되어야 한다고 생각을 가지고 있습니다. 최근에 국가보안법 적용에 있어서 법원에서도 여러 가지 곤란한 점이 있으리라고 생각이 됩니다.  광주지방법원은 7월 19일 한총련에 가입한 것을 이유로 조선대생 박성진 외 3명의 구속영장을 발부한 것으로 보도되었습니다. 또한 지난 13일에도 서일권이라는 학생 등 2명에 대해서 구속영장이 발부된 것으로 알고 있는데, 한총련 문제는 사실 일반 학생들의 총학생회가 대의원대회라는 의결기구를 통하여 가입한 대중적인 조직으로서 해마다 임기가 끝나면 총학생회가 바뀌게 되고 구체적인 비밀결사조직처럼 강령과 규약이 있어서 이적단체로서의 구성요건이 확실하게 갖추어져 있지 않음에도 불구하고, 물론 대법원에서 한총련을 이적단체로 규정을 했습니다마는 문제는 당시 5기 6기 한총련이 아니라 그 이후에 총학생회의 의결로 한총련에 가입되어 있기 때문에 그 규약에 따라서 이후에 당선된 총학생회장이 자신의 의사와는 상관없이 자동적으로 한총련에 가입하게 되어 있는데 단지 탈퇴를 하지 않았다는 이유로 이적단체가입죄로서 일괄적으로 구속하고 기소하는 행위는 상당히 문제가 있지 않은가 생각됩니다.  보고사항에도 20명의 국가보안법 위반자 중 현재 5명이 집행유예판결을 받은 것을 보더라도 실제로 실형이 선고된 경우는 전국적으로 2%에 불과한 실정인데 과연 현재 남북관계의 여러 가지 해빙 분위기에 맞추어서 볼 때 굳이 이런 학생들을 구속시켜서 기소할 필요가 있겠는가, 물론 아직 현행법이 있기 때문에 기소를 해서 재판에서 판결을 받을 필요가 있겠지만 굳이 이러한 학생들을 구속시키는 것은 문제가 있지 않느냐 하는 생각을 가지고 있습니다.  예를 들어서 대전지방법원에서는 남북화해 분위기를 감안해서 증거인멸이나 도주할 염려가 없는 점을 고려해서 대전지방법원 문정일 판사가 8기 한총련대의원으로 참가를 했던 대전총련 충남대학교 박찬영 학생에 대해서 구속영장을 기각한 사실이 있습니다.  제가 봤을 때 이 한총련 학생들이 구체적으로 폭력행위라든지 집시법 위반이라든지 어떤 법익을 침해하는 행위를 했으면 모르겠습니다마는 자신이 주도하지도 않았고 자기 선배가 위에서 가입된 한총련에 총학생회장으로 당선되었다는 이유로 자동적으로 가입되는, 단지 검찰이 요구한 시기에 탈퇴를 하지 않았다는 이유 하나밖에 없는데 그러한 학생을 굳이 그것도 전 학생들의 지지를 받아서 당선된 총학생회장, 간부들을 구속기소할 필요가 있는가에 대해서 법원장님의 견해를 듣고 싶습니다.  존경하는 崔炳國 위원님께서 엄격한 국가보안법의 적용을 말씀하셨습니다마는 국가보안법은 앞으로 개폐논의가 광범위하게 되고 있는 만큼, 또한 위헌법률 시비도 있고 특히 7조 같은 경우는 헌법재판소에서도 한정합헌 결정하는 것에 비추어 봤을 때 보다 탄력적인 적용이 필요하지 않을까 생각하는데 법원장님의 견해를 듣고 싶습니다.  두 번째는 위헌제청 건수에 대해서 여쭈어 보겠습니다.  저는 얼마 전에 실시된 대법관청문회에 영광스럽게 특위위원으로서 참여할 기회를 갖게 되었습니다. 그때 제가 질의한 사항 중에 대법관 후보님들께서 판사님으로 재직하던 시절에 위헌법률제청을 한 적이 있는가 물어봤을 때 한 분도 한 적이 있다는 대답을 못 들었습니다.  광주지방법원이나 고등법원에서 재판진행 과정에서 피고인이나 당사자 원피고의 신청에 의해서거나 아니면 직권에 의해서든 간에 위원법률제청 신청사건이 있는지 그 사례가 있다면 말씀해 주시기를 부탁드립니다.  그리고 거기에 덧붙여서 말씀드리고 싶은 것은 법률가와 율사의 차이점은 헌법적 감각을 가지고 있느냐의 여부에 따라 분류될 것이라고 봅니다. 그래서 우리의 최고법인 헌법적 가치를 위배하는 하위법률이 있을 때는 그러한 사실을 현재의 구체적 사건을 통해서 가장 정확하게 피부로 알 수 있는 분들이 당해 재판부에 계시는 분들이기 때문에 보다 적극적으로 헌법적 감각을 가지고 하위법률에 대한 고민의 성과가 장려되고 격려되는 법원 분위기가 필요하지 않을까 생각이 됩니다.  세 번째는 영장발부에 대해서 묻겠습니다.  법원장님께서 보고하신 대로 영장발부가 전국 평균에 비해서 상당히 낮은 것은 상당히 환영할 만하고 그만큼 광주법원의 관내 법원 판사님들께서 인권감각에 투철하다는 반증도 될 수 있다고 생각이 되는데, 하나 지적할 점은 감청영장과 체포영장 발부율이 상당히 높다는 것입니다. 사실상 포괄적인 감청이나 압수수색영장 등의 남용을 방지하기 위해서 대법원에서도 일부 기각제도 영장제도를 활성화시키기 위한 내규를 만든 것으로 알고 있습니다.  그런데 보고사항에 보니까 단 1건 정도 있는데 이러한 계좌추적영장이나 감청 등에 있어서의 포괄영장의 폐해를 방지하기 위한 일부 기각제도가 적극적으로 활용되고 있지 않는 이유가 무엇인지, 이러한 것을 앞으로 적극적으로 독려를 할 생각은 없으신지 여쭈어 보고 싶습니다.  그다음 질의사항으로는 회사정리ㆍ화의ㆍ파산제도의 관리실태에 대해서 여쭈어 보겠습니다.  보통 우리나라가 파산법이 너무 활성화되지 못하다 보니까 경영상의 회복 가능성이 있다는 이유로 화의개시 결정이나 회사정리법상의 중간적인 과도 단계를 거치게 되는데 이 과정에서 워크아웃에 들어간 기업이라든지 화의 중인 기업, 법정관리 중인 기업이 도덕적 해이에 빠져서 비자금을 조성한다든지 불법으로 자금을 유용하는 경우가 많이 발생하고 있습니다.  이에 따라 법무부가 최근에 제출한 국정감사자료에 의하면 회사자금 유용이나 비자금 조성, 허위 회계보고, 브로커와의 공모 등의 비리사실이 적발되어서 전국적으로 상당히 문제가 되고 있다고 생각이 됩니다.  제가 생각할 때는 이러한 문제의 원인이 법원에서 회사정리나 파산관재인을 선정을 할 때 일반적으로 변호사들한테 맡기고 있는데 저도 변호사로서 회사정리를 맡아 본 적이 있습니다. 그러나 이름만 빌려 주고 비용을 받는 수준이었지 전문적 지식이 결여되어 있고 실질적으로 그 부분에 대한 감시, 감독을 할 만한 역량이 없기 때문에 상당히 형식적으로 되고 있지 않는가, 그래서 광주법원에 40개, 전주지방법원에 31개, 제주지방법원에 7개의 관리회사가 있는 것으로 알고 있는데 대부분이 변호사로 선임이 되어 있고 그 변호사도 광주 같은 경우에 김모 변호사, 최모 변호사 등 일부 특정 변호사한테 집중이 되고 있는데 이러한 관재인이나 정리인을 선임하는 근거규정, 기준이 무엇인지 그리고 선임한 이후에 법원에서 어떻게 그런 것을 관리함으로써 이러한 도덕적 해이를 방지하고 있는지에 대해서 말씀해 주시기를 부탁드리겠습니다.  다음에 존경하는 趙舜衡 위원께서도 지적을 하셨습니다마는 재판에 있어서의 민원인들의 가장 불만점이 변호사가 선임되지 않는 경우에 있어서 시간을 예측할 수 없이 2시 재판인데도 중간에 아무런 안내방송도 없이 저녁 6시까지 기다릴 수밖에 없는 현상에 대해서 상당히 불만을 표시하고 있습니다.  그래서 법원에서도 시차적으로 2시, 3시, 4시, 이렇게 시간을 분리해서 소환하는 것을 검토하고 있는 것으로 알고 있습니다마는 이것이 실제로 그렇게 분류하더라도 객관적으로, 물리적으로 시간이 부족하기 때문에 서너 시간 이상씩 재판이 미뤄지는 경우가 많은데 이에 대한 대책이 있으면 말씀해 주시기 바랍니다.  또 하나는 金容鈞 위원님이 지적하셨듯이 지금 광주지방법원이나 전주ㆍ제주지방법원의 구속적부심이나 보석허가율이 보고가 됐습니다마는 그 과정에서 죄를 인정하지 않는, 자백하지 않는 사건, 간이공판절차로 가는 사건이 아니고 무죄를 다투고 있는 사건인 경우에 보석이나 적부심으로 석방된 경우가 있는지, 그 사례가 있으면 말씀해 주시기 바랍니다.  증거인멸과 도주우려를 방지하기 위해서 구속을 시킨다고 합니다마는 제가 생각할 때는 실질적으로 구속이 되면 모든 사회적, 정치적 생명이 심대한 타격을 받을 뿐만 아니라 일방적인 검찰의 공소사실에 대응하기 위한 피고인의 방어권이 현저하게 침해되기 때문에 무기대등의 원칙에서도 심각한 문제가 있다고 봅니다. 그런 면에서 이러한 사례가 있다면 말씀해 주시고, 사례가 없다면 이러한 경우에 있어서의 피고인의 방어권 측면이 고려되어야 하지 않는가에 대한 견해를 묻고 싶습니다.  또 하나는 광주지방법원에 홈페이지가 아직 개설이 안 되어 있는데 현재 대법원에는 홈페지가 개설되어 있는데 광주지방법원에서는 보도상으로 볼 때 ARS 정보이용 실태라든지 민원상담 등을 통해서 주민들의 커다란 호응을 얻고 있는 것으로 알고 있습니다.  상당히 아주 잘한 조치라고 보는데 특별하게 인터넷상으로 홈페이지를 통해서 제반 재판정보를 제공할 생각이 없는지, 춘천지방법원 같은 경우는 유일하게 인터넷 홈페지가 개설되어 있고 또한 의견을 민원인이 올릴 수 있는 게시판이 되어 있습니다. 대법원에는 그런 게시판이 없고 일방적인 홍보만 되어 있는데 춘천지법처럼 광주 쪽 법원도 이런 것을 할 의향이 없으신지 여쭈어 보고 싶습니다.  다음으로 제주지방법원에 여쭤 보겠습니다.  2000년 1월 7일 제주지법에서 사전구속영장에 이어 영장실질심사를 받은 후 구속 여부가 결정될 때까지의 시간을 이용해서 박모 씨가 도주한 사건이 발생된 것으로 보도되었습니다.  영장실질심사에 따른 여러 가지 문제가 있는데 구금시설이 없고 구금시설을 설치할 근거가 없다는 이유로 사실 검찰에서 영장실질심사제도를 현실성이 없다고 비판한 논거가 있습니다.  그래서 과연 제주지법에서는 이런 사태의 재발 방지를 위해서 어떤 조치를 하고 계시는지에 대해서 한번 여쭈어 보고 싶습니다.  마지막으로 제주지방법원에서는 사회봉사명령을 선고를 함으로써 시민으로부터 상당히 좋은 호응을 받고 있다는 언론을 보았습니다. 소년들에게 있어서 사회봉사명령이라든지 여러 가지 선도조건부 기소유예조치라든지 어떤 보호명령 이러한 것들이 취지는 좋습니다마는 실질적으로 관리가 안 되기 때문에 보호관찰도 받지 않고 도주한다든지 안 지키는 경우가 많은데 이런 사회봉사명령이 잘 되고 있다면 어느 정도의 효과를 가져 왔는지에 대해서 제주지방법원장님의 말씀을 듣고 싶습니다.  이상입니다.\",\n",
      "    \"회의번호\": 28906,\n",
      "    \"질의응답번호\": 1,\n",
      "    \"회의구분\": \"국정감사\",\n",
      "    \"위원회\": \"법제사법위원회\",\n",
      "    \"회의일자\": \"2000年10月19日(木)\",\n",
      "    \"질문자\": \"7488\",\n",
      "    \"질문자_ISNI\": \"0000000114322578\",\n",
      "    \"answer\": \"고등법원장 답변 올리겠습니다.  먼저 위원님들께서 구두답변을 요망하신 내용을 메모에 의해서 준비되는 대로 답변해 드리도록 하겠습니다.  한나라당 尹景湜 위원님께서 질의하신 내용 중 특별재판부 운영실태 및 평가결과에 대해서 우선 저희 법원에서는 그 명칭이 특별재판부가 아니라 특정 형사사건을 처리하는 형사부라고 부르고 있습니다.  저희 법원에서는 최근에 수석부장판사가 정년퇴임하시는 바람에 그런 사건이 발생했습니다마는 현재 수석부장판사가 재판장인 재판부에서 담당하고 있으며 해당 사건은 공개된 법정에서 심리하고 있습니다.  사무분담상 수석부장이 담당하는 재판부에서는 원래 민사, 행정, 가사 사건만 담당하고 있고 그래서 형사사건을 같은 법정에서 심리하기가 현실적으로 곤란해서 특별 기일을 지정하여 운영하고 있습니다.  그리고 특정 형사사건도 일반 형사사건과 마찬가지의 절차나 방식에 따라서 심리 판단하고 있고 작년 9월 1일부터 금년 8월 31일까지 특정 형사사건에 대하여 적부심으로 석방하거나 보석허가를 한 사건, 벌금형이나 집행유예를 선고한 사례는 단 1건도 없습니다. 위원님께서 지적하신 대로 이 사건에 관해서도 객관성이나 투명성과 관련하여 오해의 소지가 없도록 각별히 노력하도록 하겠습니다.  다음은 宋永吉 위원님께서 무죄를 주장하는 피고인에 대한 보석허가 불허 등 계속구금 사례가 있는지 여부에 대해서 물으셨는데 답변 올리겠습니다.  시간 관계로 통계상 당장 확인할 방법이 없습니다. 그래서 그러한 사례가 있는지는 알 수가 없고 앞으로 자료를 뽑아 보도록 하겠습니다. 위원님께서 질의하신 취지를 법관들에게 전달해서 무죄를 주장하더라도 보석을 불허하는 일이 없도록 보석이 합당하다고 생각하면 보석을 허가하도록 판사들에게 전달하도록 하겠습니다.  그다음, 법정안전을 위한 관계기관의 입체적, 물리적 대책마련 문제에 대해서는 지금까지는 특별한 대책을 마련하지 못했습니다. 오늘 위원님께서 좋은 말씀이 계셔서 앞으로 저희가 검찰이나 교도소, 구치소 및 경찰과 입체적, 물리적으로 대책을 마련하도록 연구ㆍ검토하겠습니다.  다음, 법정관계인의 기립에 대한 감사 인사 문제에 대해서는 李柱榮 위원님께서 지적하신 견해에 대해서 전적으로 동감합니다. 위원님의 좋은 말씀을 법관들에게 널리 알려서 법원도 인간적인 기본 예의를 갖추어서 재판한다는 것을 보이도록 노력하겠습니다.  그다음, 趙舜衡 위원님과 宋永吉 위원님께서 법관의 재판진행 태도에 관한 질의를 한 것에 대해서 말씀드리겠습니다.  저희 법원은 대법원 예규인 「바람직한 재판운영방안」에 따라서 평소에 법정에서 공손한 언어를 사용하고 재판기일을 시차제로 운영하여 변호인이 선임되지 아니한 당사자에게도 불편하지 않도록 배려하여 왔습니다. 그리고 입정 시간도 철저히 준수하고 있습니다. 저희 법원은 재판부가 4개 부밖에 되지 않기 때문에 이를 위반하는 재판부는 없는 것으로 알고 있습니다. 또한 판사 개개인이 사명감을 가지고 신뢰받는 법원상을 구현하도록 전체 판사회의 석상에서나 개별적인 대화를 통해서 수시로 논의를 계속하고 있습니다.  다음, 千正培 위원님께서 지적하신 법원의 인권의식 제고방안에 대해서는 위원님의 지적에 전적으로 동감하면서 헌법과 법률에 의하여 양심에 따라 독립하여 재판하는 법관으로서 그동안 인권의식이 미비하였다면 깊이 반성하고 앞으로 인권의식에 투철하고 헌법적 감각이 무디지 않도록 법관회의나 법관세미나를 통해서 논의하도록 하겠습니다.  宋永吉 위원님께서 저희 법원에 위헌법률제청 신청건수가 있는지 물으셨는데 지난 1년 동안 저희 법원에서 위헌제청 신청을 한 사건은 없습니다.  위원님의 지적을 겸허히 받아들여서 앞으로는 법률의 위헌 여부에 대하여 보다 진지한 검토를 거쳐서 필요하다면 과감하게 위헌제청을 하도록 적극 권장하도록 하겠습니다.  나머지 부분은 지방법원장님의 답변사항에 해당될 것 같아서 고등법원에서는 이상으로 구두답변을 마치고 다른 질의사항은 서면으로 답변 올리도록 하겠습니다.\",\n",
      "    \"답변자\": \" \",\n",
      "    \"답변자_ISNI\": \" \"\n",
      "}\n",
      "--------------------------------------------------\n",
      "\n",
      "총 질문-답변 쌍의 개수: 35233\n",
      "\n",
      "필드 유효성 검사:\n",
      "\n",
      "질문-답변 쌍 일관성 확인:\n"
     ]
    }
   ],
   "source": [
    "import json\n",
    "import os\n",
    "\n",
    "# 라벨링된 JSON 파일 경로 (리눅스/WSL 경로로 수정)\n",
    "file_path = \"/mnt/c/study/KISTI_AI/023.국회 회의록 기반 지식검색 데이터/3.개방데이터/1.데이터/Training/02.라벨링데이터/라벨링데이터.json\"\n",
    "\n",
    "# JSON 파일 로드 및 예외 처리\n",
    "try:\n",
    "    # 파일 존재 여부 확인\n",
    "    if not os.path.exists(file_path):\n",
    "        raise FileNotFoundError(f\"파일을 찾을 수 없습니다. 경로를 확인해주세요: {file_path}\")\n",
    "\n",
    "    # JSON 파일 읽기\n",
    "    with open(file_path, 'r', encoding='utf-8') as f:\n",
    "        data = json.load(f)\n",
    "\n",
    "        # 1. JSON 파일에서 일부 샘플을 확인 (처음 5개 데이터 출력)\n",
    "        print(\"데이터 샘플 확인 (처음 5개 질문-답변 쌍):\")\n",
    "        for i, item in enumerate(data[:5]):\n",
    "            print(f\"샘플 {i + 1}:\")\n",
    "            print(json.dumps(item, indent=4, ensure_ascii=False))\n",
    "            print(\"-\" * 50)\n",
    "\n",
    "        # 2. 총 질문-답변 쌍의 개수 확인\n",
    "        print(f\"\\n총 질문-답변 쌍의 개수: {len(data)}\")\n",
    "\n",
    "        # 3. 필드 유효성 검사\n",
    "        required_fields = {\"question\", \"answer\", \"회의번호\", \"질의응답번호\", \"회의구분\", \"위원회\", \"회의일자\", \"질문자\", \"질문자_ISNI\", \"답변자\", \"답변자_ISNI\"}\n",
    "        print(\"\\n필드 유효성 검사:\")\n",
    "        for i, item in enumerate(data):\n",
    "            missing_fields = required_fields - item.keys()  # 필요한 필드 중 누락된 필드 찾기\n",
    "            if missing_fields:\n",
    "                print(f\"항목 {i}에 필요한 필드가 누락되었습니다: {missing_fields}\")\n",
    "        \n",
    "        # 4. 질문-답변 쌍의 일관성 확인\n",
    "        print(\"\\n질문-답변 쌍 일관성 확인:\")\n",
    "        for i, item in enumerate(data):\n",
    "            if not item.get(\"question\") or not item.get(\"answer\"):\n",
    "                print(f\"항목 {i}에 질문 또는 답변이 없습니다.\")\n",
    "\n",
    "except FileNotFoundError:\n",
    "    print(f\"파일을 찾을 수 없습니다. 경로를 확인해주세요: {file_path}\")\n",
    "except json.JSONDecodeError:\n",
    "    print(\"JSON 파일을 읽는 중 오류가 발생했습니다. 파일 형식이 올바른지 확인해주세요.\")\n",
    "except Exception as e:\n",
    "    print(f\"오류 발생: {e}\")\n"
   ]
  },
  {
   "cell_type": "code",
   "execution_count": null,
   "id": "24ec70e2-57c4-4c06-9977-244d9cdfddf9",
   "metadata": {},
   "outputs": [],
   "source": []
  },
  {
   "cell_type": "code",
   "execution_count": null,
   "id": "cc1f0752-8bf9-4c71-8bd6-c4f3aa556d2f",
   "metadata": {},
   "outputs": [],
   "source": []
  },
  {
   "cell_type": "code",
   "execution_count": null,
   "id": "fa3b3e46-2159-4af5-ade2-9c75fbcf6217",
   "metadata": {},
   "outputs": [],
   "source": []
  },
  {
   "cell_type": "code",
   "execution_count": null,
   "id": "786e52cb-c84e-4973-b27f-2149b377b106",
   "metadata": {},
   "outputs": [],
   "source": [
    "다음 단계: 모델 학습 준비 및 학습\n",
    "데이터 전처리 및 준비:\n",
    "\n",
    "생성한 라벨링된 JSON 파일을 이용해 모델 학습에 적합한 형태로 변환해야 합니다.\n",
    "데이터를 질문-답변 쌍 형식으로 학습 데이터셋에 사용합니다.\n",
    "데이터를 나누어 **훈련 데이터(Training Set)**와 **검증 데이터(Validation Set)**로 나누는 작업을 합니다.\n",
    "모델 선택:\n",
    "\n",
    "질의응답 모델로 학습할 수 있는 사전 학습된 모델을 선택합니다. 대표적인 예시로는 다음과 같은 모델들이 있습니다:\n",
    "BERT (Bidirectional Encoder Representations from Transformers): 일반적으로 질의응답 태스크에 자주 사용됩니다.\n",
    "GPT (Generative Pre-trained Transformer): 대화형 모델과 자유 형식의 질문에 대해 답변을 생성하는 데 유용합니다.\n",
    "Hugging Face의 Transformers 라이브러리를 사용하면 다양한 사전 학습된 모델을 쉽게 사용할 수 있습니다.\n",
    "환경 설정 및 모델 학습:\n",
    "\n",
    "Python에서 모델을 학습할 수 있는 환경을 설정합니다.\n"
   ]
  },
  {
   "cell_type": "code",
   "execution_count": null,
   "id": "489bf495-7f5b-4656-b343-06e07b925433",
   "metadata": {},
   "outputs": [],
   "source": []
  },
  {
   "cell_type": "code",
   "execution_count": 38,
   "id": "05b3329e-aac1-4b1f-86a0-97136c54c66c",
   "metadata": {},
   "outputs": [],
   "source": [
    "# !pip install nltk"
   ]
  },
  {
   "cell_type": "code",
   "execution_count": 34,
   "id": "bffb394e-4223-48d4-9e4b-90facf06a541",
   "metadata": {
    "scrolled": true
   },
   "outputs": [],
   "source": [
    "# !pip install transformers\n",
    "# !pip install torch\n",
    "# !pip install torch\n",
    "# !pip install torch transformers konlpy"
   ]
  },
  {
   "cell_type": "code",
   "execution_count": 35,
   "id": "3931efb8-c966-4c12-a738-41b864ebe0a8",
   "metadata": {
    "scrolled": true
   },
   "outputs": [],
   "source": [
    "# pip install torch torchvision torchaudio --index-url https://download.pytorch.org/whl/cu118"
   ]
  },
  {
   "cell_type": "code",
   "execution_count": 36,
   "id": "ba27c347-e253-4c5e-9060-0ab2edba57a3",
   "metadata": {},
   "outputs": [
    {
     "name": "stdout",
     "output_type": "stream",
     "text": [
      "2.4.1+cu121\n"
     ]
    }
   ],
   "source": [
    "import torch\n",
    "print(torch.__version__)\n"
   ]
  },
  {
   "cell_type": "code",
   "execution_count": 32,
   "id": "485e12a0-4510-4858-8211-6091f5a1248b",
   "metadata": {},
   "outputs": [
    {
     "ename": "ImportError",
     "evalue": "Unable to convert output to PyTorch tensors format, PyTorch is not installed.",
     "output_type": "error",
     "traceback": [
      "\u001b[0;31m---------------------------------------------------------------------------\u001b[0m",
      "\u001b[0;31mImportError\u001b[0m                               Traceback (most recent call last)",
      "Cell \u001b[0;32mIn[32], line 86\u001b[0m\n\u001b[1;32m     83\u001b[0m dataloader \u001b[38;5;241m=\u001b[39m DataLoader(dataset, batch_size\u001b[38;5;241m=\u001b[39m\u001b[38;5;241m8\u001b[39m, shuffle\u001b[38;5;241m=\u001b[39m\u001b[38;5;28;01mTrue\u001b[39;00m)\n\u001b[1;32m     85\u001b[0m \u001b[38;5;66;03m# 데이터셋에서 샘플 확인\u001b[39;00m\n\u001b[0;32m---> 86\u001b[0m \u001b[38;5;28;01mfor\u001b[39;00m batch \u001b[38;5;129;01min\u001b[39;00m dataloader:\n\u001b[1;32m     87\u001b[0m     \u001b[38;5;28mprint\u001b[39m(batch)\n\u001b[1;32m     88\u001b[0m     \u001b[38;5;28;01mbreak\u001b[39;00m\n",
      "File \u001b[0;32m~/miniforge3/envs/nlp/lib/python3.10/site-packages/torch/utils/data/dataloader.py:630\u001b[0m, in \u001b[0;36m_BaseDataLoaderIter.__next__\u001b[0;34m(self)\u001b[0m\n\u001b[1;32m    627\u001b[0m \u001b[38;5;28;01mif\u001b[39;00m \u001b[38;5;28mself\u001b[39m\u001b[38;5;241m.\u001b[39m_sampler_iter \u001b[38;5;129;01mis\u001b[39;00m \u001b[38;5;28;01mNone\u001b[39;00m:\n\u001b[1;32m    628\u001b[0m     \u001b[38;5;66;03m# TODO(https://github.com/pytorch/pytorch/issues/76750)\u001b[39;00m\n\u001b[1;32m    629\u001b[0m     \u001b[38;5;28mself\u001b[39m\u001b[38;5;241m.\u001b[39m_reset()  \u001b[38;5;66;03m# type: ignore[call-arg]\u001b[39;00m\n\u001b[0;32m--> 630\u001b[0m data \u001b[38;5;241m=\u001b[39m \u001b[38;5;28;43mself\u001b[39;49m\u001b[38;5;241;43m.\u001b[39;49m\u001b[43m_next_data\u001b[49m\u001b[43m(\u001b[49m\u001b[43m)\u001b[49m\n\u001b[1;32m    631\u001b[0m \u001b[38;5;28mself\u001b[39m\u001b[38;5;241m.\u001b[39m_num_yielded \u001b[38;5;241m+\u001b[39m\u001b[38;5;241m=\u001b[39m \u001b[38;5;241m1\u001b[39m\n\u001b[1;32m    632\u001b[0m \u001b[38;5;28;01mif\u001b[39;00m \u001b[38;5;28mself\u001b[39m\u001b[38;5;241m.\u001b[39m_dataset_kind \u001b[38;5;241m==\u001b[39m _DatasetKind\u001b[38;5;241m.\u001b[39mIterable \u001b[38;5;129;01mand\u001b[39;00m \\\n\u001b[1;32m    633\u001b[0m         \u001b[38;5;28mself\u001b[39m\u001b[38;5;241m.\u001b[39m_IterableDataset_len_called \u001b[38;5;129;01mis\u001b[39;00m \u001b[38;5;129;01mnot\u001b[39;00m \u001b[38;5;28;01mNone\u001b[39;00m \u001b[38;5;129;01mand\u001b[39;00m \\\n\u001b[1;32m    634\u001b[0m         \u001b[38;5;28mself\u001b[39m\u001b[38;5;241m.\u001b[39m_num_yielded \u001b[38;5;241m>\u001b[39m \u001b[38;5;28mself\u001b[39m\u001b[38;5;241m.\u001b[39m_IterableDataset_len_called:\n",
      "File \u001b[0;32m~/miniforge3/envs/nlp/lib/python3.10/site-packages/torch/utils/data/dataloader.py:673\u001b[0m, in \u001b[0;36m_SingleProcessDataLoaderIter._next_data\u001b[0;34m(self)\u001b[0m\n\u001b[1;32m    671\u001b[0m \u001b[38;5;28;01mdef\u001b[39;00m \u001b[38;5;21m_next_data\u001b[39m(\u001b[38;5;28mself\u001b[39m):\n\u001b[1;32m    672\u001b[0m     index \u001b[38;5;241m=\u001b[39m \u001b[38;5;28mself\u001b[39m\u001b[38;5;241m.\u001b[39m_next_index()  \u001b[38;5;66;03m# may raise StopIteration\u001b[39;00m\n\u001b[0;32m--> 673\u001b[0m     data \u001b[38;5;241m=\u001b[39m \u001b[38;5;28;43mself\u001b[39;49m\u001b[38;5;241;43m.\u001b[39;49m\u001b[43m_dataset_fetcher\u001b[49m\u001b[38;5;241;43m.\u001b[39;49m\u001b[43mfetch\u001b[49m\u001b[43m(\u001b[49m\u001b[43mindex\u001b[49m\u001b[43m)\u001b[49m  \u001b[38;5;66;03m# may raise StopIteration\u001b[39;00m\n\u001b[1;32m    674\u001b[0m     \u001b[38;5;28;01mif\u001b[39;00m \u001b[38;5;28mself\u001b[39m\u001b[38;5;241m.\u001b[39m_pin_memory:\n\u001b[1;32m    675\u001b[0m         data \u001b[38;5;241m=\u001b[39m _utils\u001b[38;5;241m.\u001b[39mpin_memory\u001b[38;5;241m.\u001b[39mpin_memory(data, \u001b[38;5;28mself\u001b[39m\u001b[38;5;241m.\u001b[39m_pin_memory_device)\n",
      "File \u001b[0;32m~/miniforge3/envs/nlp/lib/python3.10/site-packages/torch/utils/data/_utils/fetch.py:52\u001b[0m, in \u001b[0;36m_MapDatasetFetcher.fetch\u001b[0;34m(self, possibly_batched_index)\u001b[0m\n\u001b[1;32m     50\u001b[0m         data \u001b[38;5;241m=\u001b[39m \u001b[38;5;28mself\u001b[39m\u001b[38;5;241m.\u001b[39mdataset\u001b[38;5;241m.\u001b[39m__getitems__(possibly_batched_index)\n\u001b[1;32m     51\u001b[0m     \u001b[38;5;28;01melse\u001b[39;00m:\n\u001b[0;32m---> 52\u001b[0m         data \u001b[38;5;241m=\u001b[39m [\u001b[38;5;28mself\u001b[39m\u001b[38;5;241m.\u001b[39mdataset[idx] \u001b[38;5;28;01mfor\u001b[39;00m idx \u001b[38;5;129;01min\u001b[39;00m possibly_batched_index]\n\u001b[1;32m     53\u001b[0m \u001b[38;5;28;01melse\u001b[39;00m:\n\u001b[1;32m     54\u001b[0m     data \u001b[38;5;241m=\u001b[39m \u001b[38;5;28mself\u001b[39m\u001b[38;5;241m.\u001b[39mdataset[possibly_batched_index]\n",
      "File \u001b[0;32m~/miniforge3/envs/nlp/lib/python3.10/site-packages/torch/utils/data/_utils/fetch.py:52\u001b[0m, in \u001b[0;36m<listcomp>\u001b[0;34m(.0)\u001b[0m\n\u001b[1;32m     50\u001b[0m         data \u001b[38;5;241m=\u001b[39m \u001b[38;5;28mself\u001b[39m\u001b[38;5;241m.\u001b[39mdataset\u001b[38;5;241m.\u001b[39m__getitems__(possibly_batched_index)\n\u001b[1;32m     51\u001b[0m     \u001b[38;5;28;01melse\u001b[39;00m:\n\u001b[0;32m---> 52\u001b[0m         data \u001b[38;5;241m=\u001b[39m [\u001b[38;5;28;43mself\u001b[39;49m\u001b[38;5;241;43m.\u001b[39;49m\u001b[43mdataset\u001b[49m\u001b[43m[\u001b[49m\u001b[43midx\u001b[49m\u001b[43m]\u001b[49m \u001b[38;5;28;01mfor\u001b[39;00m idx \u001b[38;5;129;01min\u001b[39;00m possibly_batched_index]\n\u001b[1;32m     53\u001b[0m \u001b[38;5;28;01melse\u001b[39;00m:\n\u001b[1;32m     54\u001b[0m     data \u001b[38;5;241m=\u001b[39m \u001b[38;5;28mself\u001b[39m\u001b[38;5;241m.\u001b[39mdataset[possibly_batched_index]\n",
      "Cell \u001b[0;32mIn[32], line 63\u001b[0m, in \u001b[0;36mQADataset.__getitem__\u001b[0;34m(self, idx)\u001b[0m\n\u001b[1;32m     60\u001b[0m answer \u001b[38;5;241m=\u001b[39m preprocess_text(item[\u001b[38;5;124m'\u001b[39m\u001b[38;5;124manswer\u001b[39m\u001b[38;5;124m'\u001b[39m])\n\u001b[1;32m     62\u001b[0m \u001b[38;5;66;03m# 질문과 답변을 토큰화\u001b[39;00m\n\u001b[0;32m---> 63\u001b[0m inputs \u001b[38;5;241m=\u001b[39m \u001b[38;5;28;43mself\u001b[39;49m\u001b[38;5;241;43m.\u001b[39;49m\u001b[43mtokenizer\u001b[49m\u001b[43m(\u001b[49m\n\u001b[1;32m     64\u001b[0m \u001b[43m    \u001b[49m\u001b[43mquestion\u001b[49m\u001b[43m,\u001b[49m\n\u001b[1;32m     65\u001b[0m \u001b[43m    \u001b[49m\u001b[43manswer\u001b[49m\u001b[43m,\u001b[49m\n\u001b[1;32m     66\u001b[0m \u001b[43m    \u001b[49m\u001b[43mmax_length\u001b[49m\u001b[38;5;241;43m=\u001b[39;49m\u001b[38;5;241;43m512\u001b[39;49m\u001b[43m,\u001b[49m\n\u001b[1;32m     67\u001b[0m \u001b[43m    \u001b[49m\u001b[43mpadding\u001b[49m\u001b[38;5;241;43m=\u001b[39;49m\u001b[38;5;124;43m'\u001b[39;49m\u001b[38;5;124;43mmax_length\u001b[39;49m\u001b[38;5;124;43m'\u001b[39;49m\u001b[43m,\u001b[49m\n\u001b[1;32m     68\u001b[0m \u001b[43m    \u001b[49m\u001b[43mtruncation\u001b[49m\u001b[38;5;241;43m=\u001b[39;49m\u001b[38;5;28;43;01mTrue\u001b[39;49;00m\u001b[43m,\u001b[49m\n\u001b[1;32m     69\u001b[0m \u001b[43m    \u001b[49m\u001b[43mreturn_tensors\u001b[49m\u001b[38;5;241;43m=\u001b[39;49m\u001b[38;5;124;43m'\u001b[39;49m\u001b[38;5;124;43mpt\u001b[39;49m\u001b[38;5;124;43m'\u001b[39;49m\n\u001b[1;32m     70\u001b[0m \u001b[43m\u001b[49m\u001b[43m)\u001b[49m\n\u001b[1;32m     72\u001b[0m \u001b[38;5;66;03m# 필요한 경우, 각 입력 데이터를 'squeeze()'로 차원 축소\u001b[39;00m\n\u001b[1;32m     73\u001b[0m input_ids \u001b[38;5;241m=\u001b[39m inputs[\u001b[38;5;124m'\u001b[39m\u001b[38;5;124minput_ids\u001b[39m\u001b[38;5;124m'\u001b[39m]\u001b[38;5;241m.\u001b[39msqueeze()\n",
      "File \u001b[0;32m~/miniforge3/envs/nlp/lib/python3.10/site-packages/transformers/tokenization_utils_base.py:3016\u001b[0m, in \u001b[0;36mPreTrainedTokenizerBase.__call__\u001b[0;34m(self, text, text_pair, text_target, text_pair_target, add_special_tokens, padding, truncation, max_length, stride, is_split_into_words, pad_to_multiple_of, padding_side, return_tensors, return_token_type_ids, return_attention_mask, return_overflowing_tokens, return_special_tokens_mask, return_offsets_mapping, return_length, verbose, **kwargs)\u001b[0m\n\u001b[1;32m   3014\u001b[0m     \u001b[38;5;28;01mif\u001b[39;00m \u001b[38;5;129;01mnot\u001b[39;00m \u001b[38;5;28mself\u001b[39m\u001b[38;5;241m.\u001b[39m_in_target_context_manager:\n\u001b[1;32m   3015\u001b[0m         \u001b[38;5;28mself\u001b[39m\u001b[38;5;241m.\u001b[39m_switch_to_input_mode()\n\u001b[0;32m-> 3016\u001b[0m     encodings \u001b[38;5;241m=\u001b[39m \u001b[38;5;28;43mself\u001b[39;49m\u001b[38;5;241;43m.\u001b[39;49m\u001b[43m_call_one\u001b[49m\u001b[43m(\u001b[49m\u001b[43mtext\u001b[49m\u001b[38;5;241;43m=\u001b[39;49m\u001b[43mtext\u001b[49m\u001b[43m,\u001b[49m\u001b[43m \u001b[49m\u001b[43mtext_pair\u001b[49m\u001b[38;5;241;43m=\u001b[39;49m\u001b[43mtext_pair\u001b[49m\u001b[43m,\u001b[49m\u001b[43m \u001b[49m\u001b[38;5;241;43m*\u001b[39;49m\u001b[38;5;241;43m*\u001b[39;49m\u001b[43mall_kwargs\u001b[49m\u001b[43m)\u001b[49m\n\u001b[1;32m   3017\u001b[0m \u001b[38;5;28;01mif\u001b[39;00m text_target \u001b[38;5;129;01mis\u001b[39;00m \u001b[38;5;129;01mnot\u001b[39;00m \u001b[38;5;28;01mNone\u001b[39;00m:\n\u001b[1;32m   3018\u001b[0m     \u001b[38;5;28mself\u001b[39m\u001b[38;5;241m.\u001b[39m_switch_to_target_mode()\n",
      "File \u001b[0;32m~/miniforge3/envs/nlp/lib/python3.10/site-packages/transformers/tokenization_utils_base.py:3126\u001b[0m, in \u001b[0;36mPreTrainedTokenizerBase._call_one\u001b[0;34m(self, text, text_pair, add_special_tokens, padding, truncation, max_length, stride, is_split_into_words, pad_to_multiple_of, padding_side, return_tensors, return_token_type_ids, return_attention_mask, return_overflowing_tokens, return_special_tokens_mask, return_offsets_mapping, return_length, verbose, split_special_tokens, **kwargs)\u001b[0m\n\u001b[1;32m   3104\u001b[0m     \u001b[38;5;28;01mreturn\u001b[39;00m \u001b[38;5;28mself\u001b[39m\u001b[38;5;241m.\u001b[39mbatch_encode_plus(\n\u001b[1;32m   3105\u001b[0m         batch_text_or_text_pairs\u001b[38;5;241m=\u001b[39mbatch_text_or_text_pairs,\n\u001b[1;32m   3106\u001b[0m         add_special_tokens\u001b[38;5;241m=\u001b[39madd_special_tokens,\n\u001b[0;32m   (...)\u001b[0m\n\u001b[1;32m   3123\u001b[0m         \u001b[38;5;241m*\u001b[39m\u001b[38;5;241m*\u001b[39mkwargs,\n\u001b[1;32m   3124\u001b[0m     )\n\u001b[1;32m   3125\u001b[0m \u001b[38;5;28;01melse\u001b[39;00m:\n\u001b[0;32m-> 3126\u001b[0m     \u001b[38;5;28;01mreturn\u001b[39;00m \u001b[38;5;28;43mself\u001b[39;49m\u001b[38;5;241;43m.\u001b[39;49m\u001b[43mencode_plus\u001b[49m\u001b[43m(\u001b[49m\n\u001b[1;32m   3127\u001b[0m \u001b[43m        \u001b[49m\u001b[43mtext\u001b[49m\u001b[38;5;241;43m=\u001b[39;49m\u001b[43mtext\u001b[49m\u001b[43m,\u001b[49m\n\u001b[1;32m   3128\u001b[0m \u001b[43m        \u001b[49m\u001b[43mtext_pair\u001b[49m\u001b[38;5;241;43m=\u001b[39;49m\u001b[43mtext_pair\u001b[49m\u001b[43m,\u001b[49m\n\u001b[1;32m   3129\u001b[0m \u001b[43m        \u001b[49m\u001b[43madd_special_tokens\u001b[49m\u001b[38;5;241;43m=\u001b[39;49m\u001b[43madd_special_tokens\u001b[49m\u001b[43m,\u001b[49m\n\u001b[1;32m   3130\u001b[0m \u001b[43m        \u001b[49m\u001b[43mpadding\u001b[49m\u001b[38;5;241;43m=\u001b[39;49m\u001b[43mpadding\u001b[49m\u001b[43m,\u001b[49m\n\u001b[1;32m   3131\u001b[0m \u001b[43m        \u001b[49m\u001b[43mtruncation\u001b[49m\u001b[38;5;241;43m=\u001b[39;49m\u001b[43mtruncation\u001b[49m\u001b[43m,\u001b[49m\n\u001b[1;32m   3132\u001b[0m \u001b[43m        \u001b[49m\u001b[43mmax_length\u001b[49m\u001b[38;5;241;43m=\u001b[39;49m\u001b[43mmax_length\u001b[49m\u001b[43m,\u001b[49m\n\u001b[1;32m   3133\u001b[0m \u001b[43m        \u001b[49m\u001b[43mstride\u001b[49m\u001b[38;5;241;43m=\u001b[39;49m\u001b[43mstride\u001b[49m\u001b[43m,\u001b[49m\n\u001b[1;32m   3134\u001b[0m \u001b[43m        \u001b[49m\u001b[43mis_split_into_words\u001b[49m\u001b[38;5;241;43m=\u001b[39;49m\u001b[43mis_split_into_words\u001b[49m\u001b[43m,\u001b[49m\n\u001b[1;32m   3135\u001b[0m \u001b[43m        \u001b[49m\u001b[43mpad_to_multiple_of\u001b[49m\u001b[38;5;241;43m=\u001b[39;49m\u001b[43mpad_to_multiple_of\u001b[49m\u001b[43m,\u001b[49m\n\u001b[1;32m   3136\u001b[0m \u001b[43m        \u001b[49m\u001b[43mpadding_side\u001b[49m\u001b[38;5;241;43m=\u001b[39;49m\u001b[43mpadding_side\u001b[49m\u001b[43m,\u001b[49m\n\u001b[1;32m   3137\u001b[0m \u001b[43m        \u001b[49m\u001b[43mreturn_tensors\u001b[49m\u001b[38;5;241;43m=\u001b[39;49m\u001b[43mreturn_tensors\u001b[49m\u001b[43m,\u001b[49m\n\u001b[1;32m   3138\u001b[0m \u001b[43m        \u001b[49m\u001b[43mreturn_token_type_ids\u001b[49m\u001b[38;5;241;43m=\u001b[39;49m\u001b[43mreturn_token_type_ids\u001b[49m\u001b[43m,\u001b[49m\n\u001b[1;32m   3139\u001b[0m \u001b[43m        \u001b[49m\u001b[43mreturn_attention_mask\u001b[49m\u001b[38;5;241;43m=\u001b[39;49m\u001b[43mreturn_attention_mask\u001b[49m\u001b[43m,\u001b[49m\n\u001b[1;32m   3140\u001b[0m \u001b[43m        \u001b[49m\u001b[43mreturn_overflowing_tokens\u001b[49m\u001b[38;5;241;43m=\u001b[39;49m\u001b[43mreturn_overflowing_tokens\u001b[49m\u001b[43m,\u001b[49m\n\u001b[1;32m   3141\u001b[0m \u001b[43m        \u001b[49m\u001b[43mreturn_special_tokens_mask\u001b[49m\u001b[38;5;241;43m=\u001b[39;49m\u001b[43mreturn_special_tokens_mask\u001b[49m\u001b[43m,\u001b[49m\n\u001b[1;32m   3142\u001b[0m \u001b[43m        \u001b[49m\u001b[43mreturn_offsets_mapping\u001b[49m\u001b[38;5;241;43m=\u001b[39;49m\u001b[43mreturn_offsets_mapping\u001b[49m\u001b[43m,\u001b[49m\n\u001b[1;32m   3143\u001b[0m \u001b[43m        \u001b[49m\u001b[43mreturn_length\u001b[49m\u001b[38;5;241;43m=\u001b[39;49m\u001b[43mreturn_length\u001b[49m\u001b[43m,\u001b[49m\n\u001b[1;32m   3144\u001b[0m \u001b[43m        \u001b[49m\u001b[43mverbose\u001b[49m\u001b[38;5;241;43m=\u001b[39;49m\u001b[43mverbose\u001b[49m\u001b[43m,\u001b[49m\n\u001b[1;32m   3145\u001b[0m \u001b[43m        \u001b[49m\u001b[43msplit_special_tokens\u001b[49m\u001b[38;5;241;43m=\u001b[39;49m\u001b[43msplit_special_tokens\u001b[49m\u001b[43m,\u001b[49m\n\u001b[1;32m   3146\u001b[0m \u001b[43m        \u001b[49m\u001b[38;5;241;43m*\u001b[39;49m\u001b[38;5;241;43m*\u001b[39;49m\u001b[43mkwargs\u001b[49m\u001b[43m,\u001b[49m\n\u001b[1;32m   3147\u001b[0m \u001b[43m    \u001b[49m\u001b[43m)\u001b[49m\n",
      "File \u001b[0;32m~/miniforge3/envs/nlp/lib/python3.10/site-packages/transformers/tokenization_utils_base.py:3202\u001b[0m, in \u001b[0;36mPreTrainedTokenizerBase.encode_plus\u001b[0;34m(self, text, text_pair, add_special_tokens, padding, truncation, max_length, stride, is_split_into_words, pad_to_multiple_of, padding_side, return_tensors, return_token_type_ids, return_attention_mask, return_overflowing_tokens, return_special_tokens_mask, return_offsets_mapping, return_length, verbose, **kwargs)\u001b[0m\n\u001b[1;32m   3192\u001b[0m \u001b[38;5;66;03m# Backward compatibility for 'truncation_strategy', 'pad_to_max_length'\u001b[39;00m\n\u001b[1;32m   3193\u001b[0m padding_strategy, truncation_strategy, max_length, kwargs \u001b[38;5;241m=\u001b[39m \u001b[38;5;28mself\u001b[39m\u001b[38;5;241m.\u001b[39m_get_padding_truncation_strategies(\n\u001b[1;32m   3194\u001b[0m     padding\u001b[38;5;241m=\u001b[39mpadding,\n\u001b[1;32m   3195\u001b[0m     truncation\u001b[38;5;241m=\u001b[39mtruncation,\n\u001b[0;32m   (...)\u001b[0m\n\u001b[1;32m   3199\u001b[0m     \u001b[38;5;241m*\u001b[39m\u001b[38;5;241m*\u001b[39mkwargs,\n\u001b[1;32m   3200\u001b[0m )\n\u001b[0;32m-> 3202\u001b[0m \u001b[38;5;28;01mreturn\u001b[39;00m \u001b[38;5;28;43mself\u001b[39;49m\u001b[38;5;241;43m.\u001b[39;49m\u001b[43m_encode_plus\u001b[49m\u001b[43m(\u001b[49m\n\u001b[1;32m   3203\u001b[0m \u001b[43m    \u001b[49m\u001b[43mtext\u001b[49m\u001b[38;5;241;43m=\u001b[39;49m\u001b[43mtext\u001b[49m\u001b[43m,\u001b[49m\n\u001b[1;32m   3204\u001b[0m \u001b[43m    \u001b[49m\u001b[43mtext_pair\u001b[49m\u001b[38;5;241;43m=\u001b[39;49m\u001b[43mtext_pair\u001b[49m\u001b[43m,\u001b[49m\n\u001b[1;32m   3205\u001b[0m \u001b[43m    \u001b[49m\u001b[43madd_special_tokens\u001b[49m\u001b[38;5;241;43m=\u001b[39;49m\u001b[43madd_special_tokens\u001b[49m\u001b[43m,\u001b[49m\n\u001b[1;32m   3206\u001b[0m \u001b[43m    \u001b[49m\u001b[43mpadding_strategy\u001b[49m\u001b[38;5;241;43m=\u001b[39;49m\u001b[43mpadding_strategy\u001b[49m\u001b[43m,\u001b[49m\n\u001b[1;32m   3207\u001b[0m \u001b[43m    \u001b[49m\u001b[43mtruncation_strategy\u001b[49m\u001b[38;5;241;43m=\u001b[39;49m\u001b[43mtruncation_strategy\u001b[49m\u001b[43m,\u001b[49m\n\u001b[1;32m   3208\u001b[0m \u001b[43m    \u001b[49m\u001b[43mmax_length\u001b[49m\u001b[38;5;241;43m=\u001b[39;49m\u001b[43mmax_length\u001b[49m\u001b[43m,\u001b[49m\n\u001b[1;32m   3209\u001b[0m \u001b[43m    \u001b[49m\u001b[43mstride\u001b[49m\u001b[38;5;241;43m=\u001b[39;49m\u001b[43mstride\u001b[49m\u001b[43m,\u001b[49m\n\u001b[1;32m   3210\u001b[0m \u001b[43m    \u001b[49m\u001b[43mis_split_into_words\u001b[49m\u001b[38;5;241;43m=\u001b[39;49m\u001b[43mis_split_into_words\u001b[49m\u001b[43m,\u001b[49m\n\u001b[1;32m   3211\u001b[0m \u001b[43m    \u001b[49m\u001b[43mpad_to_multiple_of\u001b[49m\u001b[38;5;241;43m=\u001b[39;49m\u001b[43mpad_to_multiple_of\u001b[49m\u001b[43m,\u001b[49m\n\u001b[1;32m   3212\u001b[0m \u001b[43m    \u001b[49m\u001b[43mpadding_side\u001b[49m\u001b[38;5;241;43m=\u001b[39;49m\u001b[43mpadding_side\u001b[49m\u001b[43m,\u001b[49m\n\u001b[1;32m   3213\u001b[0m \u001b[43m    \u001b[49m\u001b[43mreturn_tensors\u001b[49m\u001b[38;5;241;43m=\u001b[39;49m\u001b[43mreturn_tensors\u001b[49m\u001b[43m,\u001b[49m\n\u001b[1;32m   3214\u001b[0m \u001b[43m    \u001b[49m\u001b[43mreturn_token_type_ids\u001b[49m\u001b[38;5;241;43m=\u001b[39;49m\u001b[43mreturn_token_type_ids\u001b[49m\u001b[43m,\u001b[49m\n\u001b[1;32m   3215\u001b[0m \u001b[43m    \u001b[49m\u001b[43mreturn_attention_mask\u001b[49m\u001b[38;5;241;43m=\u001b[39;49m\u001b[43mreturn_attention_mask\u001b[49m\u001b[43m,\u001b[49m\n\u001b[1;32m   3216\u001b[0m \u001b[43m    \u001b[49m\u001b[43mreturn_overflowing_tokens\u001b[49m\u001b[38;5;241;43m=\u001b[39;49m\u001b[43mreturn_overflowing_tokens\u001b[49m\u001b[43m,\u001b[49m\n\u001b[1;32m   3217\u001b[0m \u001b[43m    \u001b[49m\u001b[43mreturn_special_tokens_mask\u001b[49m\u001b[38;5;241;43m=\u001b[39;49m\u001b[43mreturn_special_tokens_mask\u001b[49m\u001b[43m,\u001b[49m\n\u001b[1;32m   3218\u001b[0m \u001b[43m    \u001b[49m\u001b[43mreturn_offsets_mapping\u001b[49m\u001b[38;5;241;43m=\u001b[39;49m\u001b[43mreturn_offsets_mapping\u001b[49m\u001b[43m,\u001b[49m\n\u001b[1;32m   3219\u001b[0m \u001b[43m    \u001b[49m\u001b[43mreturn_length\u001b[49m\u001b[38;5;241;43m=\u001b[39;49m\u001b[43mreturn_length\u001b[49m\u001b[43m,\u001b[49m\n\u001b[1;32m   3220\u001b[0m \u001b[43m    \u001b[49m\u001b[43mverbose\u001b[49m\u001b[38;5;241;43m=\u001b[39;49m\u001b[43mverbose\u001b[49m\u001b[43m,\u001b[49m\n\u001b[1;32m   3221\u001b[0m \u001b[43m    \u001b[49m\u001b[43msplit_special_tokens\u001b[49m\u001b[38;5;241;43m=\u001b[39;49m\u001b[43mkwargs\u001b[49m\u001b[38;5;241;43m.\u001b[39;49m\u001b[43mpop\u001b[49m\u001b[43m(\u001b[49m\u001b[38;5;124;43m\"\u001b[39;49m\u001b[38;5;124;43msplit_special_tokens\u001b[39;49m\u001b[38;5;124;43m\"\u001b[39;49m\u001b[43m,\u001b[49m\u001b[43m \u001b[49m\u001b[38;5;28;43mself\u001b[39;49m\u001b[38;5;241;43m.\u001b[39;49m\u001b[43msplit_special_tokens\u001b[49m\u001b[43m)\u001b[49m\u001b[43m,\u001b[49m\n\u001b[1;32m   3222\u001b[0m \u001b[43m    \u001b[49m\u001b[38;5;241;43m*\u001b[39;49m\u001b[38;5;241;43m*\u001b[39;49m\u001b[43mkwargs\u001b[49m\u001b[43m,\u001b[49m\n\u001b[1;32m   3223\u001b[0m \u001b[43m\u001b[49m\u001b[43m)\u001b[49m\n",
      "File \u001b[0;32m~/miniforge3/envs/nlp/lib/python3.10/site-packages/transformers/tokenization_utils.py:801\u001b[0m, in \u001b[0;36mPreTrainedTokenizer._encode_plus\u001b[0;34m(self, text, text_pair, add_special_tokens, padding_strategy, truncation_strategy, max_length, stride, is_split_into_words, pad_to_multiple_of, padding_side, return_tensors, return_token_type_ids, return_attention_mask, return_overflowing_tokens, return_special_tokens_mask, return_offsets_mapping, return_length, verbose, **kwargs)\u001b[0m\n\u001b[1;32m    798\u001b[0m first_ids \u001b[38;5;241m=\u001b[39m get_input_ids(text)\n\u001b[1;32m    799\u001b[0m second_ids \u001b[38;5;241m=\u001b[39m get_input_ids(text_pair) \u001b[38;5;28;01mif\u001b[39;00m text_pair \u001b[38;5;129;01mis\u001b[39;00m \u001b[38;5;129;01mnot\u001b[39;00m \u001b[38;5;28;01mNone\u001b[39;00m \u001b[38;5;28;01melse\u001b[39;00m \u001b[38;5;28;01mNone\u001b[39;00m\n\u001b[0;32m--> 801\u001b[0m \u001b[38;5;28;01mreturn\u001b[39;00m \u001b[38;5;28;43mself\u001b[39;49m\u001b[38;5;241;43m.\u001b[39;49m\u001b[43mprepare_for_model\u001b[49m\u001b[43m(\u001b[49m\n\u001b[1;32m    802\u001b[0m \u001b[43m    \u001b[49m\u001b[43mfirst_ids\u001b[49m\u001b[43m,\u001b[49m\n\u001b[1;32m    803\u001b[0m \u001b[43m    \u001b[49m\u001b[43mpair_ids\u001b[49m\u001b[38;5;241;43m=\u001b[39;49m\u001b[43msecond_ids\u001b[49m\u001b[43m,\u001b[49m\n\u001b[1;32m    804\u001b[0m \u001b[43m    \u001b[49m\u001b[43madd_special_tokens\u001b[49m\u001b[38;5;241;43m=\u001b[39;49m\u001b[43madd_special_tokens\u001b[49m\u001b[43m,\u001b[49m\n\u001b[1;32m    805\u001b[0m \u001b[43m    \u001b[49m\u001b[43mpadding\u001b[49m\u001b[38;5;241;43m=\u001b[39;49m\u001b[43mpadding_strategy\u001b[49m\u001b[38;5;241;43m.\u001b[39;49m\u001b[43mvalue\u001b[49m\u001b[43m,\u001b[49m\n\u001b[1;32m    806\u001b[0m \u001b[43m    \u001b[49m\u001b[43mtruncation\u001b[49m\u001b[38;5;241;43m=\u001b[39;49m\u001b[43mtruncation_strategy\u001b[49m\u001b[38;5;241;43m.\u001b[39;49m\u001b[43mvalue\u001b[49m\u001b[43m,\u001b[49m\n\u001b[1;32m    807\u001b[0m \u001b[43m    \u001b[49m\u001b[43mmax_length\u001b[49m\u001b[38;5;241;43m=\u001b[39;49m\u001b[43mmax_length\u001b[49m\u001b[43m,\u001b[49m\n\u001b[1;32m    808\u001b[0m \u001b[43m    \u001b[49m\u001b[43mstride\u001b[49m\u001b[38;5;241;43m=\u001b[39;49m\u001b[43mstride\u001b[49m\u001b[43m,\u001b[49m\n\u001b[1;32m    809\u001b[0m \u001b[43m    \u001b[49m\u001b[43mpad_to_multiple_of\u001b[49m\u001b[38;5;241;43m=\u001b[39;49m\u001b[43mpad_to_multiple_of\u001b[49m\u001b[43m,\u001b[49m\n\u001b[1;32m    810\u001b[0m \u001b[43m    \u001b[49m\u001b[43mpadding_side\u001b[49m\u001b[38;5;241;43m=\u001b[39;49m\u001b[43mpadding_side\u001b[49m\u001b[43m,\u001b[49m\n\u001b[1;32m    811\u001b[0m \u001b[43m    \u001b[49m\u001b[43mreturn_tensors\u001b[49m\u001b[38;5;241;43m=\u001b[39;49m\u001b[43mreturn_tensors\u001b[49m\u001b[43m,\u001b[49m\n\u001b[1;32m    812\u001b[0m \u001b[43m    \u001b[49m\u001b[43mprepend_batch_axis\u001b[49m\u001b[38;5;241;43m=\u001b[39;49m\u001b[38;5;28;43;01mTrue\u001b[39;49;00m\u001b[43m,\u001b[49m\n\u001b[1;32m    813\u001b[0m \u001b[43m    \u001b[49m\u001b[43mreturn_attention_mask\u001b[49m\u001b[38;5;241;43m=\u001b[39;49m\u001b[43mreturn_attention_mask\u001b[49m\u001b[43m,\u001b[49m\n\u001b[1;32m    814\u001b[0m \u001b[43m    \u001b[49m\u001b[43mreturn_token_type_ids\u001b[49m\u001b[38;5;241;43m=\u001b[39;49m\u001b[43mreturn_token_type_ids\u001b[49m\u001b[43m,\u001b[49m\n\u001b[1;32m    815\u001b[0m \u001b[43m    \u001b[49m\u001b[43mreturn_overflowing_tokens\u001b[49m\u001b[38;5;241;43m=\u001b[39;49m\u001b[43mreturn_overflowing_tokens\u001b[49m\u001b[43m,\u001b[49m\n\u001b[1;32m    816\u001b[0m \u001b[43m    \u001b[49m\u001b[43mreturn_special_tokens_mask\u001b[49m\u001b[38;5;241;43m=\u001b[39;49m\u001b[43mreturn_special_tokens_mask\u001b[49m\u001b[43m,\u001b[49m\n\u001b[1;32m    817\u001b[0m \u001b[43m    \u001b[49m\u001b[43mreturn_length\u001b[49m\u001b[38;5;241;43m=\u001b[39;49m\u001b[43mreturn_length\u001b[49m\u001b[43m,\u001b[49m\n\u001b[1;32m    818\u001b[0m \u001b[43m    \u001b[49m\u001b[43mverbose\u001b[49m\u001b[38;5;241;43m=\u001b[39;49m\u001b[43mverbose\u001b[49m\u001b[43m,\u001b[49m\n\u001b[1;32m    819\u001b[0m \u001b[43m\u001b[49m\u001b[43m)\u001b[49m\n",
      "File \u001b[0;32m~/miniforge3/envs/nlp/lib/python3.10/site-packages/transformers/tokenization_utils_base.py:3710\u001b[0m, in \u001b[0;36mPreTrainedTokenizerBase.prepare_for_model\u001b[0;34m(self, ids, pair_ids, add_special_tokens, padding, truncation, max_length, stride, pad_to_multiple_of, padding_side, return_tensors, return_token_type_ids, return_attention_mask, return_overflowing_tokens, return_special_tokens_mask, return_offsets_mapping, return_length, verbose, prepend_batch_axis, **kwargs)\u001b[0m\n\u001b[1;32m   3707\u001b[0m \u001b[38;5;28;01mif\u001b[39;00m return_length:\n\u001b[1;32m   3708\u001b[0m     encoded_inputs[\u001b[38;5;124m\"\u001b[39m\u001b[38;5;124mlength\u001b[39m\u001b[38;5;124m\"\u001b[39m] \u001b[38;5;241m=\u001b[39m \u001b[38;5;28mlen\u001b[39m(encoded_inputs[\u001b[38;5;124m\"\u001b[39m\u001b[38;5;124minput_ids\u001b[39m\u001b[38;5;124m\"\u001b[39m])\n\u001b[0;32m-> 3710\u001b[0m batch_outputs \u001b[38;5;241m=\u001b[39m \u001b[43mBatchEncoding\u001b[49m\u001b[43m(\u001b[49m\n\u001b[1;32m   3711\u001b[0m \u001b[43m    \u001b[49m\u001b[43mencoded_inputs\u001b[49m\u001b[43m,\u001b[49m\u001b[43m \u001b[49m\u001b[43mtensor_type\u001b[49m\u001b[38;5;241;43m=\u001b[39;49m\u001b[43mreturn_tensors\u001b[49m\u001b[43m,\u001b[49m\u001b[43m \u001b[49m\u001b[43mprepend_batch_axis\u001b[49m\u001b[38;5;241;43m=\u001b[39;49m\u001b[43mprepend_batch_axis\u001b[49m\n\u001b[1;32m   3712\u001b[0m \u001b[43m\u001b[49m\u001b[43m)\u001b[49m\n\u001b[1;32m   3714\u001b[0m \u001b[38;5;28;01mreturn\u001b[39;00m batch_outputs\n",
      "File \u001b[0;32m~/miniforge3/envs/nlp/lib/python3.10/site-packages/transformers/tokenization_utils_base.py:240\u001b[0m, in \u001b[0;36mBatchEncoding.__init__\u001b[0;34m(self, data, encoding, tensor_type, prepend_batch_axis, n_sequences)\u001b[0m\n\u001b[1;32m    236\u001b[0m     n_sequences \u001b[38;5;241m=\u001b[39m encoding[\u001b[38;5;241m0\u001b[39m]\u001b[38;5;241m.\u001b[39mn_sequences\n\u001b[1;32m    238\u001b[0m \u001b[38;5;28mself\u001b[39m\u001b[38;5;241m.\u001b[39m_n_sequences \u001b[38;5;241m=\u001b[39m n_sequences\n\u001b[0;32m--> 240\u001b[0m \u001b[38;5;28;43mself\u001b[39;49m\u001b[38;5;241;43m.\u001b[39;49m\u001b[43mconvert_to_tensors\u001b[49m\u001b[43m(\u001b[49m\u001b[43mtensor_type\u001b[49m\u001b[38;5;241;43m=\u001b[39;49m\u001b[43mtensor_type\u001b[49m\u001b[43m,\u001b[49m\u001b[43m \u001b[49m\u001b[43mprepend_batch_axis\u001b[49m\u001b[38;5;241;43m=\u001b[39;49m\u001b[43mprepend_batch_axis\u001b[49m\u001b[43m)\u001b[49m\n",
      "File \u001b[0;32m~/miniforge3/envs/nlp/lib/python3.10/site-packages/transformers/tokenization_utils_base.py:729\u001b[0m, in \u001b[0;36mBatchEncoding.convert_to_tensors\u001b[0;34m(self, tensor_type, prepend_batch_axis)\u001b[0m\n\u001b[1;32m    727\u001b[0m \u001b[38;5;28;01melif\u001b[39;00m tensor_type \u001b[38;5;241m==\u001b[39m TensorType\u001b[38;5;241m.\u001b[39mPYTORCH:\n\u001b[1;32m    728\u001b[0m     \u001b[38;5;28;01mif\u001b[39;00m \u001b[38;5;129;01mnot\u001b[39;00m is_torch_available():\n\u001b[0;32m--> 729\u001b[0m         \u001b[38;5;28;01mraise\u001b[39;00m \u001b[38;5;167;01mImportError\u001b[39;00m(\u001b[38;5;124m\"\u001b[39m\u001b[38;5;124mUnable to convert output to PyTorch tensors format, PyTorch is not installed.\u001b[39m\u001b[38;5;124m\"\u001b[39m)\n\u001b[1;32m    730\u001b[0m     \u001b[38;5;28;01mimport\u001b[39;00m \u001b[38;5;21;01mtorch\u001b[39;00m\n\u001b[1;32m    732\u001b[0m     is_tensor \u001b[38;5;241m=\u001b[39m torch\u001b[38;5;241m.\u001b[39mis_tensor\n",
      "\u001b[0;31mImportError\u001b[0m: Unable to convert output to PyTorch tensors format, PyTorch is not installed."
     ]
    }
   ],
   "source": [
    "import json\n",
    "import re\n",
    "import torch\n",
    "from transformers import BertTokenizer\n",
    "import torch\n",
    "from torch.utils.data import Dataset, DataLoader\n",
    "from konlpy.tag import Mecab\n",
    "\n",
    "# Mecab 형태소 분석기 로드 (한국어 데이터의 경우)\n",
    "mecab = Mecab()\n",
    "\n",
    "# JSON 파일 경로 설정 (리눅스/WSL 경로로 수정)\n",
    "file_path = \"/mnt/c/study/KISTI_AI/023.국회 회의록 기반 지식검색 데이터/3.개방데이터/1.데이터/Training/02.라벨링데이터/라벨링데이터.json\"\n",
    "\n",
    "# JSON 파일 로드\n",
    "with open(file_path, 'r', encoding='utf-8') as f:\n",
    "    data = json.load(f)\n",
    "\n",
    "# BERT Tokenizer 로드\n",
    "tokenizer = BertTokenizer.from_pretrained('bert-base-uncased')\n",
    "\n",
    "# 불용어 정의\n",
    "stop_words = [\n",
    "    \"것\", \"있다\", \"하다\", \"입니다\", \"그리고\", \"하지만\", \"또한\", \"그런데\", \"저는\", \"우리는\", \"그래서\", \"이것\", \"저것\", \"그것\",\n",
    "    \"다시\", \"모든\", \"각각\", \"모두\", \"어느\", \"몇몇\", \"이런\", \"저런\", \"그런\", \"어떤\", \"특히\", \"즉\", \"또\", \"이후\", \"때문에\", \"통해서\",\n",
    "    \"같은\", \"많은\", \"따라서\", \"등\", \"경우\", \"관련\", \"대해\", \"의해\", \"이기\", \"대한\", \"그리고\", \"라고\", \"이라는\", \"에서\", \"부터\", \"까지\",\n",
    "    \"와\", \"과\", \"으로\", \"에\", \"의\", \"를\", \"가\", \"도\", \"로\", \"에게\", \"만\", \"뿐\", \"듯\", \"제\", \"내\", \"저\", \"그\", \"할\", \"수\", \"있\", \"같\",\n",
    "    \"되\", \"보다\", \"아니\", \"아닌\", \"이\", \"있어서\", \"입니다\", \"있습니다\", \"합니다\", \"입니까\", \"같습니다\", \"아닙니다\", \"라는\", \"그러므로\", \n",
    "    \"입니다만\", \"때문입니다\", \"라고요\", \"그러하다\", \"하고\", \"이와\"\n",
    "]\n",
    "\n",
    "# 데이터 정제 및 전처리 함수 정의\n",
    "def preprocess_text(text):\n",
    "    # 1. 특수 문자 및 불필요한 공백 제거\n",
    "    text = re.sub(r\"[^가-힣a-zA-Z0-9\\s]\", \"\", text)  # 한글, 영문, 숫자, 공백만 남기기\n",
    "    text = re.sub(r\"\\s+\", \" \", text).strip()  # 중복 공백 제거 및 양끝 공백 제거\n",
    "\n",
    "    # 2. 형태소 분석 및 불용어 제거\n",
    "    tokens = mecab.morphs(text)  # 형태소 분석\n",
    "    filtered_tokens = [word for word in tokens if word not in stop_words]  # 불용어 제거\n",
    "\n",
    "    # 3. 정제된 단어들로 다시 결합\n",
    "    preprocessed_text = \" \".join(filtered_tokens)\n",
    "    return preprocessed_text\n",
    "\n",
    "# 데이터 전처리 및 학습 데이터 준비\n",
    "class QADataset(Dataset):\n",
    "    def __init__(self, data):\n",
    "        self.data = data\n",
    "        self.tokenizer = tokenizer\n",
    "\n",
    "    def __len__(self):\n",
    "        return len(self.data)\n",
    "\n",
    "    def __getitem__(self, idx):\n",
    "        item = self.data[idx]\n",
    "        \n",
    "        # 질문과 답변 전처리\n",
    "        question = preprocess_text(item['question'])\n",
    "        answer = preprocess_text(item['answer'])\n",
    "\n",
    "        # 질문과 답변을 토큰화\n",
    "        inputs = self.tokenizer(\n",
    "            question,\n",
    "            answer,\n",
    "            max_length=512,\n",
    "            padding='max_length',\n",
    "            truncation=True,\n",
    "            return_tensors='pt'\n",
    "        )\n",
    "        \n",
    "        # 필요한 경우, 각 입력 데이터를 'squeeze()'로 차원 축소\n",
    "        input_ids = inputs['input_ids'].squeeze()\n",
    "        attention_mask = inputs['attention_mask'].squeeze()\n",
    "        \n",
    "        return {\n",
    "            'input_ids': input_ids,\n",
    "            'attention_mask': attention_mask\n",
    "        }\n",
    "\n",
    "# 데이터셋 준비\n",
    "dataset = QADataset(data)\n",
    "dataloader = DataLoader(dataset, batch_size=8, shuffle=True)\n",
    "\n",
    "# 데이터셋에서 샘플 확인\n",
    "for batch in dataloader:\n",
    "    print(batch)\n",
    "    break\n"
   ]
  },
  {
   "cell_type": "code",
   "execution_count": 25,
   "id": "ef3cebae-e13a-4581-95a2-ce4b7b5cceb2",
   "metadata": {},
   "outputs": [
    {
     "name": "stdout",
     "output_type": "stream",
     "text": [
      "ls: '/mnt/c/fintech_service/test/023.국회 회의록 기반 지식검색 데이터/3.개방데이터/1.데이터/Training/02.라벨링데이터/'에 접근할 수 없음: 그런 파일이나 디렉터리가 없습니다\n"
     ]
    }
   ],
   "source": [
    "ls \"/mnt/c/fintech_service/test/023.국회 회의록 기반 지식검색 데이터/3.개방데이터/1.데이터/Training/02.라벨링데이터/\"\n"
   ]
  },
  {
   "cell_type": "code",
   "execution_count": null,
   "id": "6247b059-180e-4577-97cc-d2b7791cc241",
   "metadata": {},
   "outputs": [],
   "source": []
  },
  {
   "cell_type": "code",
   "execution_count": 13,
   "id": "dcf5714c",
   "metadata": {
    "scrolled": true
   },
   "outputs": [
    {
     "name": "stdout",
     "output_type": "stream",
     "text": [
      "Collecting torch\n",
      "  Using cached torch-2.4.1-cp310-cp310-manylinux1_x86_64.whl.metadata (26 kB)\n",
      "Requirement already satisfied: filelock in /home/user/miniforge3/envs/nlp/lib/python3.10/site-packages (from torch) (3.16.1)\n",
      "Requirement already satisfied: typing-extensions>=4.8.0 in /home/user/miniforge3/envs/nlp/lib/python3.10/site-packages (from torch) (4.12.2)\n",
      "Collecting sympy (from torch)\n",
      "  Using cached sympy-1.13.3-py3-none-any.whl.metadata (12 kB)\n",
      "Collecting networkx (from torch)\n",
      "  Using cached networkx-3.3-py3-none-any.whl.metadata (5.1 kB)\n",
      "Requirement already satisfied: jinja2 in /home/user/miniforge3/envs/nlp/lib/python3.10/site-packages (from torch) (3.1.4)\n",
      "Requirement already satisfied: fsspec in /home/user/miniforge3/envs/nlp/lib/python3.10/site-packages (from torch) (2024.9.0)\n",
      "Collecting nvidia-cuda-nvrtc-cu12==12.1.105 (from torch)\n",
      "  Using cached nvidia_cuda_nvrtc_cu12-12.1.105-py3-none-manylinux1_x86_64.whl.metadata (1.5 kB)\n",
      "Collecting nvidia-cuda-runtime-cu12==12.1.105 (from torch)\n",
      "  Using cached nvidia_cuda_runtime_cu12-12.1.105-py3-none-manylinux1_x86_64.whl.metadata (1.5 kB)\n",
      "Collecting nvidia-cuda-cupti-cu12==12.1.105 (from torch)\n",
      "  Using cached nvidia_cuda_cupti_cu12-12.1.105-py3-none-manylinux1_x86_64.whl.metadata (1.6 kB)\n",
      "Collecting nvidia-cudnn-cu12==9.1.0.70 (from torch)\n",
      "  Using cached nvidia_cudnn_cu12-9.1.0.70-py3-none-manylinux2014_x86_64.whl.metadata (1.6 kB)\n",
      "Collecting nvidia-cublas-cu12==12.1.3.1 (from torch)\n",
      "  Using cached nvidia_cublas_cu12-12.1.3.1-py3-none-manylinux1_x86_64.whl.metadata (1.5 kB)\n",
      "Collecting nvidia-cufft-cu12==11.0.2.54 (from torch)\n",
      "  Using cached nvidia_cufft_cu12-11.0.2.54-py3-none-manylinux1_x86_64.whl.metadata (1.5 kB)\n",
      "Collecting nvidia-curand-cu12==10.3.2.106 (from torch)\n",
      "  Using cached nvidia_curand_cu12-10.3.2.106-py3-none-manylinux1_x86_64.whl.metadata (1.5 kB)\n",
      "Collecting nvidia-cusolver-cu12==11.4.5.107 (from torch)\n",
      "  Using cached nvidia_cusolver_cu12-11.4.5.107-py3-none-manylinux1_x86_64.whl.metadata (1.6 kB)\n",
      "Collecting nvidia-cusparse-cu12==12.1.0.106 (from torch)\n",
      "  Using cached nvidia_cusparse_cu12-12.1.0.106-py3-none-manylinux1_x86_64.whl.metadata (1.6 kB)\n",
      "Collecting nvidia-nccl-cu12==2.20.5 (from torch)\n",
      "  Using cached nvidia_nccl_cu12-2.20.5-py3-none-manylinux2014_x86_64.whl.metadata (1.8 kB)\n",
      "Collecting nvidia-nvtx-cu12==12.1.105 (from torch)\n",
      "  Using cached nvidia_nvtx_cu12-12.1.105-py3-none-manylinux1_x86_64.whl.metadata (1.7 kB)\n",
      "Collecting triton==3.0.0 (from torch)\n",
      "  Using cached triton-3.0.0-1-cp310-cp310-manylinux2014_x86_64.manylinux_2_17_x86_64.whl.metadata (1.3 kB)\n",
      "Collecting nvidia-nvjitlink-cu12 (from nvidia-cusolver-cu12==11.4.5.107->torch)\n",
      "  Using cached nvidia_nvjitlink_cu12-12.6.77-py3-none-manylinux2014_x86_64.whl.metadata (1.5 kB)\n",
      "Requirement already satisfied: MarkupSafe>=2.0 in /home/user/miniforge3/envs/nlp/lib/python3.10/site-packages (from jinja2->torch) (2.1.5)\n",
      "Collecting mpmath<1.4,>=1.1.0 (from sympy->torch)\n",
      "  Using cached mpmath-1.3.0-py3-none-any.whl.metadata (8.6 kB)\n",
      "Downloading torch-2.4.1-cp310-cp310-manylinux1_x86_64.whl (797.1 MB)\n",
      "\u001b[2K   \u001b[90m━━━━━━━━━━━━━━━━━━━━━━━━━━━━━━━━━━━━━━━━\u001b[0m \u001b[32m797.1/797.1 MB\u001b[0m \u001b[31m11.7 MB/s\u001b[0m eta \u001b[36m0:00:00\u001b[0m00:01\u001b[0m00:01\u001b[0m\n",
      "\u001b[?25hUsing cached nvidia_cublas_cu12-12.1.3.1-py3-none-manylinux1_x86_64.whl (410.6 MB)\n",
      "Using cached nvidia_cuda_cupti_cu12-12.1.105-py3-none-manylinux1_x86_64.whl (14.1 MB)\n",
      "Using cached nvidia_cuda_nvrtc_cu12-12.1.105-py3-none-manylinux1_x86_64.whl (23.7 MB)\n",
      "Using cached nvidia_cuda_runtime_cu12-12.1.105-py3-none-manylinux1_x86_64.whl (823 kB)\n",
      "Using cached nvidia_cudnn_cu12-9.1.0.70-py3-none-manylinux2014_x86_64.whl (664.8 MB)\n",
      "Using cached nvidia_cufft_cu12-11.0.2.54-py3-none-manylinux1_x86_64.whl (121.6 MB)\n",
      "Using cached nvidia_curand_cu12-10.3.2.106-py3-none-manylinux1_x86_64.whl (56.5 MB)\n",
      "Using cached nvidia_cusolver_cu12-11.4.5.107-py3-none-manylinux1_x86_64.whl (124.2 MB)\n",
      "Using cached nvidia_cusparse_cu12-12.1.0.106-py3-none-manylinux1_x86_64.whl (196.0 MB)\n",
      "Using cached nvidia_nccl_cu12-2.20.5-py3-none-manylinux2014_x86_64.whl (176.2 MB)\n",
      "Using cached nvidia_nvtx_cu12-12.1.105-py3-none-manylinux1_x86_64.whl (99 kB)\n",
      "Downloading triton-3.0.0-1-cp310-cp310-manylinux2014_x86_64.manylinux_2_17_x86_64.whl (209.4 MB)\n",
      "\u001b[2K   \u001b[90m━━━━━━━━━━━━━━━━━━━━━━━━━━━━━━━━━━━━━━━━\u001b[0m \u001b[32m209.4/209.4 MB\u001b[0m \u001b[31m26.6 MB/s\u001b[0m eta \u001b[36m0:00:00\u001b[0m00:01\u001b[0m00:01\u001b[0m\n",
      "\u001b[?25hUsing cached networkx-3.3-py3-none-any.whl (1.7 MB)\n",
      "Using cached sympy-1.13.3-py3-none-any.whl (6.2 MB)\n",
      "Using cached mpmath-1.3.0-py3-none-any.whl (536 kB)\n",
      "Downloading nvidia_nvjitlink_cu12-12.6.77-py3-none-manylinux2014_x86_64.whl (19.7 MB)\n",
      "\u001b[2K   \u001b[90m━━━━━━━━━━━━━━━━━━━━━━━━━━━━━━━━━━━━━━━━\u001b[0m \u001b[32m19.7/19.7 MB\u001b[0m \u001b[31m16.6 MB/s\u001b[0m eta \u001b[36m0:00:00\u001b[0m00:01\u001b[0m00:01\u001b[0m\n",
      "\u001b[?25hInstalling collected packages: mpmath, triton, sympy, nvidia-nvtx-cu12, nvidia-nvjitlink-cu12, nvidia-nccl-cu12, nvidia-curand-cu12, nvidia-cufft-cu12, nvidia-cuda-runtime-cu12, nvidia-cuda-nvrtc-cu12, nvidia-cuda-cupti-cu12, nvidia-cublas-cu12, networkx, nvidia-cusparse-cu12, nvidia-cudnn-cu12, nvidia-cusolver-cu12, torch\n",
      "  Attempting uninstall: nvidia-nccl-cu12\n",
      "\u001b[33m    WARNING: No metadata found in /home/user/miniforge3/envs/nlp/lib/python3.10/site-packages\u001b[0m\u001b[33m\n",
      "\u001b[0m    Found existing installation: nvidia-nccl-cu12 2.22.3\n",
      "    Can't uninstall 'nvidia-nccl-cu12'. No files were found to uninstall.\n",
      "\u001b[31mERROR: Could not install packages due to an OSError: [Errno 2] 그런 파일이나 디렉터리가 없습니다: '/home/user/miniforge3/envs/nlp/lib/python3.10/site-packages/nvidia/__init__.py'\n",
      "\u001b[0m\u001b[31m\n",
      "\u001b[0m"
     ]
    }
   ],
   "source": [
    "# ! pip install transformers\n",
    "!pip install torch"
   ]
  },
  {
   "cell_type": "code",
   "execution_count": 14,
   "id": "68f7b067-ee50-42a0-b079-512f6c5b62eb",
   "metadata": {},
   "outputs": [
    {
     "name": "stdout",
     "output_type": "stream",
     "text": [
      "['학교', '에서', '사용', '하', '는', '교육', '프로그램', '은', '무엇', '인가요', '?']\n"
     ]
    }
   ],
   "source": [
    "from konlpy.tag import Mecab\n",
    "\n",
    "# Mecab 형태소 분석기 로드\n",
    "mecab = Mecab()\n",
    "\n",
    "# 샘플 문장 형태소 분석\n",
    "print(mecab.morphs(\"학교에서 사용하는 교육 프로그램은 무엇인가요?\"))"
   ]
  },
  {
   "cell_type": "code",
   "execution_count": 19,
   "id": "54d893e4-e919-4c20-b869-3e9ee0e87562",
   "metadata": {},
   "outputs": [
    {
     "ename": "Exception",
     "evalue": "Install MeCab in order to use it: http://konlpy.org/en/latest/install/",
     "output_type": "error",
     "traceback": [
      "\u001b[1;31m---------------------------------------------------------------------------\u001b[0m",
      "\u001b[1;31mNameError\u001b[0m                                 Traceback (most recent call last)",
      "File \u001b[1;32m~\\miniforge3\\envs\\fintech\\lib\\site-packages\\konlpy\\tag\\_mecab.py:77\u001b[0m, in \u001b[0;36mMecab.__init__\u001b[1;34m(self, dicpath)\u001b[0m\n\u001b[0;32m     76\u001b[0m \u001b[38;5;28;01mtry\u001b[39;00m:\n\u001b[1;32m---> 77\u001b[0m     \u001b[38;5;28mself\u001b[39m\u001b[38;5;241m.\u001b[39mtagger \u001b[38;5;241m=\u001b[39m \u001b[43mTagger\u001b[49m(\u001b[38;5;124m'\u001b[39m\u001b[38;5;124m-d \u001b[39m\u001b[38;5;132;01m%s\u001b[39;00m\u001b[38;5;124m'\u001b[39m \u001b[38;5;241m%\u001b[39m dicpath)\n\u001b[0;32m     78\u001b[0m     \u001b[38;5;28mself\u001b[39m\u001b[38;5;241m.\u001b[39mtagset \u001b[38;5;241m=\u001b[39m utils\u001b[38;5;241m.\u001b[39mread_json(\u001b[38;5;124m'\u001b[39m\u001b[38;5;132;01m%s\u001b[39;00m\u001b[38;5;124m/data/tagset/mecab.json\u001b[39m\u001b[38;5;124m'\u001b[39m \u001b[38;5;241m%\u001b[39m utils\u001b[38;5;241m.\u001b[39minstallpath)\n",
      "\u001b[1;31mNameError\u001b[0m: name 'Tagger' is not defined",
      "\nDuring handling of the above exception, another exception occurred:\n",
      "\u001b[1;31mException\u001b[0m                                 Traceback (most recent call last)",
      "Cell \u001b[1;32mIn[19], line 4\u001b[0m\n\u001b[0;32m      1\u001b[0m \u001b[38;5;28;01mfrom\u001b[39;00m \u001b[38;5;21;01mkonlpy\u001b[39;00m\u001b[38;5;21;01m.\u001b[39;00m\u001b[38;5;21;01mtag\u001b[39;00m \u001b[38;5;28;01mimport\u001b[39;00m Mecab\n\u001b[0;32m      3\u001b[0m \u001b[38;5;66;03m# Mecab 형태소 분석기 로드 (Mecab 설치 경로를 명시적으로 지정)\u001b[39;00m\n\u001b[1;32m----> 4\u001b[0m mecab \u001b[38;5;241m=\u001b[39m \u001b[43mMecab\u001b[49m\u001b[43m(\u001b[49m\u001b[43mdicpath\u001b[49m\u001b[38;5;241;43m=\u001b[39;49m\u001b[38;5;124;43mr\u001b[39;49m\u001b[38;5;124;43m\"\u001b[39;49m\u001b[38;5;124;43mC:\u001b[39;49m\u001b[38;5;124;43m\\\u001b[39;49m\u001b[38;5;124;43mmecab-ko-windows-x64\u001b[39;49m\u001b[38;5;124;43m\\\u001b[39;49m\u001b[38;5;124;43mmecab\u001b[39;49m\u001b[38;5;124;43m\\\u001b[39;49m\u001b[38;5;124;43mshare\u001b[39;49m\u001b[38;5;124;43m\\\u001b[39;49m\u001b[38;5;124;43mmecab-ko-dic\u001b[39;49m\u001b[38;5;124;43m\"\u001b[39;49m\u001b[43m)\u001b[49m\n\u001b[0;32m      6\u001b[0m \u001b[38;5;66;03m# 샘플 문장 형태소 분석\u001b[39;00m\n\u001b[0;32m      7\u001b[0m \u001b[38;5;28mprint\u001b[39m(mecab\u001b[38;5;241m.\u001b[39mmorphs(\u001b[38;5;124m\"\u001b[39m\u001b[38;5;124m학교에서 사용하는 교육 프로그램은 무엇인가요?\u001b[39m\u001b[38;5;124m\"\u001b[39m))\n",
      "File \u001b[1;32m~\\miniforge3\\envs\\fintech\\lib\\site-packages\\konlpy\\tag\\_mecab.py:82\u001b[0m, in \u001b[0;36mMecab.__init__\u001b[1;34m(self, dicpath)\u001b[0m\n\u001b[0;32m     80\u001b[0m     \u001b[38;5;28;01mraise\u001b[39;00m \u001b[38;5;167;01mException\u001b[39;00m(\u001b[38;5;124m'\u001b[39m\u001b[38;5;124mThe MeCab dictionary does not exist at \u001b[39m\u001b[38;5;124m\"\u001b[39m\u001b[38;5;132;01m%s\u001b[39;00m\u001b[38;5;124m\"\u001b[39m\u001b[38;5;124m. Is the dictionary correctly installed?\u001b[39m\u001b[38;5;130;01m\\n\u001b[39;00m\u001b[38;5;124mYou can also try entering the dictionary path when initializing the Mecab class: \u001b[39m\u001b[38;5;124m\"\u001b[39m\u001b[38;5;124mMecab(\u001b[39m\u001b[38;5;130;01m\\'\u001b[39;00m\u001b[38;5;124m/some/dic/path\u001b[39m\u001b[38;5;130;01m\\'\u001b[39;00m\u001b[38;5;124m)\u001b[39m\u001b[38;5;124m\"\u001b[39m\u001b[38;5;124m'\u001b[39m \u001b[38;5;241m%\u001b[39m dicpath)\n\u001b[0;32m     81\u001b[0m \u001b[38;5;28;01mexcept\u001b[39;00m \u001b[38;5;167;01mNameError\u001b[39;00m:\n\u001b[1;32m---> 82\u001b[0m     \u001b[38;5;28;01mraise\u001b[39;00m \u001b[38;5;167;01mException\u001b[39;00m(\u001b[38;5;124m'\u001b[39m\u001b[38;5;124mInstall MeCab in order to use it: http://konlpy.org/en/latest/install/\u001b[39m\u001b[38;5;124m'\u001b[39m)\n",
      "\u001b[1;31mException\u001b[0m: Install MeCab in order to use it: http://konlpy.org/en/latest/install/"
     ]
    }
   ],
   "source": [
    "from konlpy.tag import Mecab\n",
    "\n",
    "# Mecab 형태소 분석기 로드 (Mecab 설치 경로를 명시적으로 지정)\n",
    "mecab = Mecab(dicpath=r\"C:\\mecab-ko-windows-x64\\mecab\\share\\mecab-ko-dic\")\n",
    "\n",
    "# 샘플 문장 형태소 분석\n",
    "print(mecab.morphs(\"학교에서 사용하는 교육 프로그램은 무엇인가요?\"))\n"
   ]
  },
  {
   "cell_type": "code",
   "execution_count": null,
   "id": "f9cd980a-e598-443a-b568-21be4cc5a941",
   "metadata": {},
   "outputs": [],
   "source": []
  },
  {
   "cell_type": "code",
   "execution_count": null,
   "id": "8a8b38ed-a8b0-4413-b635-6f4ad06294b0",
   "metadata": {},
   "outputs": [],
   "source": []
  },
  {
   "cell_type": "code",
   "execution_count": null,
   "id": "90b6a2c3-cc7f-41a8-94e9-1c494a82ced7",
   "metadata": {},
   "outputs": [],
   "source": []
  },
  {
   "cell_type": "code",
   "execution_count": null,
   "id": "917ea686-698c-4f8a-b987-12e5f34b77f6",
   "metadata": {},
   "outputs": [],
   "source": []
  },
  {
   "cell_type": "code",
   "execution_count": null,
   "id": "d333254a-d803-4a43-874c-a697c3d4d38c",
   "metadata": {},
   "outputs": [],
   "source": []
  },
  {
   "cell_type": "code",
   "execution_count": null,
   "id": "abe84873-7051-49d9-a8a0-f00863d6eafd",
   "metadata": {},
   "outputs": [],
   "source": []
  },
  {
   "cell_type": "code",
   "execution_count": null,
   "id": "89aea9c9-609c-46cf-8346-00408842aeee",
   "metadata": {},
   "outputs": [],
   "source": []
  },
  {
   "cell_type": "code",
   "execution_count": null,
   "id": "b9b02693-46ab-4c6d-917c-52f01fc670b9",
   "metadata": {},
   "outputs": [],
   "source": []
  }
 ],
 "metadata": {
  "kernelspec": {
   "display_name": "Python 3 (ipykernel)",
   "language": "python",
   "name": "python3"
  },
  "language_info": {
   "codemirror_mode": {
    "name": "ipython",
    "version": 3
   },
   "file_extension": ".py",
   "mimetype": "text/x-python",
   "name": "python",
   "nbconvert_exporter": "python",
   "pygments_lexer": "ipython3",
   "version": "3.10.15"
  }
 },
 "nbformat": 4,
 "nbformat_minor": 5
}
