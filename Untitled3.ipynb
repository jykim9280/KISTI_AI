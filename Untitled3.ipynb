{
 "cells": [
  {
   "cell_type": "code",
   "execution_count": null,
   "id": "ae249a4e",
   "metadata": {},
   "outputs": [],
   "source": [
    "국정감사 폴더 내 모든 json 파일 경로 설정\n",
    "file_path = '/content/drive/MyDrive/Colab Notebooks/data/02.라벨링데이터/*/.json'\n",
    "\n",
    "\n",
    "모든 JSON 파일 경로 불러오기 (재귀적 탐색)\n",
    "all_files = glob.glob(file_path, recursive=True)\n",
    "\n",
    "불러온 파일의 총 개수 출력\n",
    "print(f\"총 불러온 JSON 파일 개수: {len(all_files)}\")\n",
    "\n",
    "빈 리스트 생성 (모든 데이터를 저장하기 위해)\n",
    "dataframes = []\n",
    "\n",
    "각 파일을 읽어서 리스트에 추가\n",
    "for file in all_files:\n",
    "    try:\n",
    "        df = pd.read_json(file)  # 각 JSON 파일 읽기\n",
    "        dataframes.append(df)\n",
    "    except Exception as e:\n",
    "        print(f\"Error reading {file}: {e}\")  # 오류가 발생한 파일 출력\n",
    "\n",
    "모든 파일을 하나의 데이터프레임으로 병합\n",
    "label_merged_df = pd.concat(dataframes, ignore_index=True)\n",
    "\n",
    "데이터 확인 (병합된 데이터 출력)\n",
    "label_merged_df.head()\n",
    "import json\n",
    "\n",
    "데이터프레임을 딕셔너리로 변환 (리스트 형식으로 변환)\n",
    "train_data_all = label_merged_df.to_dict(orient='records')\n",
    "\n",
    "저장할 파일 경로 설정\n",
    "file_path = '/content/drive/MyDrive/Colab Notebooks/train_data_all.json'\n",
    "\n",
    "train_data_all리스트를 JSON 파일로 저장\n",
    "with open(file_path, 'w', encoding='utf-8') as f:\n",
    "    json.dump(train_data_all, f, ensure_ascii=False, indent=4)\n",
    "\n",
    "print(f\"데이터가 {file_path}에 저장되었습니다.\")"
   ]
  }
 ],
 "metadata": {
  "kernelspec": {
   "display_name": "Python 3 (ipykernel)",
   "language": "python",
   "name": "python3"
  },
  "language_info": {
   "codemirror_mode": {
    "name": "ipython",
    "version": 3
   },
   "file_extension": ".py",
   "mimetype": "text/x-python",
   "name": "python",
   "nbconvert_exporter": "python",
   "pygments_lexer": "ipython3",
   "version": "3.9.19"
  }
 },
 "nbformat": 4,
 "nbformat_minor": 5
}
